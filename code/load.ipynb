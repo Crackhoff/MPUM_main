{
 "cells": [
  {
   "cell_type": "code",
   "outputs": [],
   "source": [
    "import tensorflow as tf\n",
    "import numpy as np"
   ],
   "metadata": {
    "collapsed": false,
    "ExecuteTime": {
     "end_time": "2024-06-09T14:40:02.369857Z",
     "start_time": "2024-06-09T14:40:02.366922Z"
    }
   },
   "id": "a42e614bd3a26d9d",
   "execution_count": 4
  },
  {
   "cell_type": "code",
   "outputs": [],
   "source": [
    "model = tf.keras.models.load_model('super_good_model.keras')\n"
   ],
   "metadata": {
    "collapsed": false,
    "ExecuteTime": {
     "end_time": "2024-06-09T14:40:42.221671Z",
     "start_time": "2024-06-09T14:40:41.927915Z"
    }
   },
   "id": "1d7aa7652115ad73",
   "execution_count": 10
  },
  {
   "cell_type": "code",
   "outputs": [
    {
     "name": "stdout",
     "output_type": "stream",
     "text": [
      "Found 5376 files belonging to 2 classes.\n",
      "['notwaldo', 'waldo']\n"
     ]
    }
   ],
   "source": [
    "IMG_SIZE=64\n",
    "src1_ds = tf.keras.utils.image_dataset_from_directory(\n",
    "    '../data/src1/64',\n",
    "    seed=123,\n",
    "    image_size=(IMG_SIZE, IMG_SIZE),\n",
    "    batch_size=32)\n",
    "\n",
    "print(src1_ds.class_names)"
   ],
   "metadata": {
    "collapsed": false,
    "ExecuteTime": {
     "end_time": "2024-06-09T14:40:35.226908Z",
     "start_time": "2024-06-09T14:40:35.092417Z"
    }
   },
   "id": "5342830c1123b4cb",
   "execution_count": 8
  },
  {
   "cell_type": "code",
   "outputs": [
    {
     "name": "stderr",
     "output_type": "stream",
     "text": [
      "2024-06-09 16:40:44.548044: W tensorflow/core/framework/local_rendezvous.cc:404] Local rendezvous is aborting with status: OUT_OF_RANGE: End of sequence\n"
     ]
    },
    {
     "name": "stdout",
     "output_type": "stream",
     "text": [
      "\u001B[1m 12/168\u001B[0m \u001B[32m━\u001B[0m\u001B[37m━━━━━━━━━━━━━━━━━━━\u001B[0m \u001B[1m1s\u001B[0m 10ms/step"
     ]
    },
    {
     "name": "stderr",
     "output_type": "stream",
     "text": [
      "2024-06-09 16:40:44.932475: W external/local_tsl/tsl/framework/cpu_allocator_impl.cc:83] Allocation of 264241152 exceeds 10% of free system memory.\n"
     ]
    },
    {
     "name": "stdout",
     "output_type": "stream",
     "text": [
      "\u001B[1m168/168\u001B[0m \u001B[32m━━━━━━━━━━━━━━━━━━━━\u001B[0m\u001B[37m\u001B[0m \u001B[1m2s\u001B[0m 9ms/step\n",
      "(126,) (array([  45,   87,  184,  186,  345,  408,  415,  433,  440,  511,  598,\n",
      "        639,  760,  799,  805,  855,  901,  970, 1008, 1035, 1057, 1127,\n",
      "       1144, 1147, 1184, 1204, 1250, 1256, 1309, 1390, 1398, 1403, 1409,\n",
      "       1519, 1534, 1583, 1790, 1820, 1864, 1907, 1934, 1936, 2000, 2019,\n",
      "       2129, 2170, 2188, 2196, 2211, 2266, 2303, 2358, 2472, 2486, 2491,\n",
      "       2530, 2657, 2672, 2688, 2720, 2749, 2760, 2773, 2857, 2896, 2903,\n",
      "       2920, 2937, 3043, 3093, 3097, 3112, 3139, 3178, 3231, 3238, 3251,\n",
      "       3254, 3266, 3285, 3303, 3358, 3369, 3425, 3483, 3529, 3602, 3679,\n",
      "       3715, 3752, 3779, 3807, 3832, 3839, 3914, 3950, 3992, 4257, 4279,\n",
      "       4304, 4314, 4349, 4415, 4421, 4432, 4438, 4441, 4472, 4505, 4525,\n",
      "       4542, 4578, 4600, 4666, 4691, 4733, 4838, 4846, 4854, 4886, 5021,\n",
      "       5025, 5059, 5217, 5334, 5361]),)\n",
      "(39,) (array([  53,   62,  225,  358,  414,  794,  855,  866,  901,  956, 1043,\n",
      "       1172, 1211, 1250, 1376, 1640, 1749, 1820, 1833, 2000, 2292, 2357,\n",
      "       2672, 2749, 2773, 2857, 2893, 3040, 3459, 3503, 4038, 4634, 4796,\n",
      "       4858, 5025, 5099, 5217, 5246, 5283]),)\n",
      "Manual checking accuracy on training data: 97.34%\n"
     ]
    }
   ],
   "source": [
    "# Unbatch and batch the dataset to get all data at once\n",
    "# train_images, train_labels = next(iter(src1_ds.unbatch().batch(len(train_ds))))\n",
    "train_images, train_labels = zip(*[(image.numpy(), label.numpy()) for image, label in src1_ds.unbatch()])\n",
    "train_images = np.array(train_images)\n",
    "train_labels = np.array(train_labels)\n",
    "# test_images, test_labels = next(iter(yesset.unbatch().batch(len(test_ds))))\n",
    "\n",
    "# Predict on the training data\n",
    "train_predictions = model.predict(train_images)\n",
    "train_predicted_labels = tf.argmax(train_predictions, axis=1)\n",
    "print(np.where(train_predicted_labels == 1)[0].shape, np.where(train_predicted_labels == 1))\n",
    "print(np.where(train_labels == 1)[0].shape, np.where(train_labels == 1))\n",
    "# Ensure the labels are of the same type\n",
    "train_predicted_labels = tf.cast(train_predicted_labels, tf.int32)\n",
    "\n",
    "# Calculate the number of correct predictions\n",
    "correct_predictions = tf.reduce_sum(tf.cast(train_predicted_labels == train_labels, tf.int32))\n",
    "\n",
    "# Calculate accuracy\n",
    "accuracy = correct_predictions / len(train_labels)\n",
    "\n",
    "print(f\"Manual checking accuracy on training data: {accuracy * 100:.2f}%\")"
   ],
   "metadata": {
    "collapsed": false,
    "ExecuteTime": {
     "end_time": "2024-06-09T14:40:46.835206Z",
     "start_time": "2024-06-09T14:40:43.622727Z"
    }
   },
   "id": "c7512904db97190a",
   "execution_count": 11
  }
 ],
 "metadata": {
  "kernelspec": {
   "display_name": "Python 3",
   "language": "python",
   "name": "python3"
  },
  "language_info": {
   "codemirror_mode": {
    "name": "ipython",
    "version": 2
   },
   "file_extension": ".py",
   "mimetype": "text/x-python",
   "name": "python",
   "nbconvert_exporter": "python",
   "pygments_lexer": "ipython2",
   "version": "2.7.6"
  }
 },
 "nbformat": 4,
 "nbformat_minor": 5
}
