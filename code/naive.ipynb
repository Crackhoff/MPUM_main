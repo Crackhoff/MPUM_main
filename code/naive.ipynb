{
 "cells": [
  {
   "cell_type": "markdown",
   "metadata": {},
   "source": [
    "### In this notebook, we will use simple comparison of the image and Waldo to find the Waldo in the image. This method is a benchmark for later, machine learning methods."
   ]
  },
  {
   "cell_type": "code",
   "execution_count": 52,
   "metadata": {},
   "outputs": [],
   "source": [
    "from tensorflow import keras\n",
    "import numpy as np\n",
    "import matplotlib.pyplot as plt\n",
    "\n",
    "from PIL import Image"
   ]
  },
  {
   "cell_type": "code",
   "execution_count": 53,
   "metadata": {},
   "outputs": [
    {
     "name": "stdout",
     "output_type": "stream",
     "text": [
      "Found 5376 files belonging to 2 classes.\n",
      "Using 4301 files for training.\n",
      "['notwaldo', 'waldo']\n"
     ]
    }
   ],
   "source": [
    "# Get the data - every image from the 64 directory\n",
    "\n",
    "train_ds= keras.utils.image_dataset_from_directory(\n",
    "    '../data/src1/64',\n",
    "    validation_split=0.2,\n",
    "    subset=\"training\",\n",
    "    seed=1337,\n",
    "    image_size=(64, 64),\n",
    "    batch_size=32)\n",
    "\n",
    "print(train_ds.class_names)\n",
    "\n",
    "# print both class names and the number of images in each class\n",
    "\n",
    "for i in range(len(train_ds.class_names)):\n",
    "    print(train_ds.class_names[i], len(train_ds.file_paths[i]))\n"
   ]
  },
  {
   "cell_type": "code",
   "execution_count": 54,
   "metadata": {},
   "outputs": [
    {
     "name": "stdout",
     "output_type": "stream",
     "text": [
      "(6,)\n"
     ]
    },
    {
     "name": "stderr",
     "output_type": "stream",
     "text": [
      "/var/folders/w4/xs9m4t1j28598sp65xft3k1h0000gn/T/ipykernel_8248/2439471844.py:11: VisibleDeprecationWarning: Creating an ndarray from ragged nested sequences (which is a list-or-tuple of lists-or-tuples-or ndarrays with different lengths or shapes) is deprecated. If you meant to do this, you must specify 'dtype=object' when creating the ndarray.\n",
      "  Waldos = np.array(Waldos)\n"
     ]
    }
   ],
   "source": [
    "# Get the Waldo image as an rgb array\n",
    "Waldos = []\n",
    "\n",
    "Waldos.append(keras.utils.img_to_array(Image.open('../data/src2/OnlyWaldoHeads/3.png').convert('RGB')))\n",
    "Waldos.append(keras.utils.img_to_array(Image.open('../data/src2/OnlyWaldoHeads/5.png').convert('RGB')))\n",
    "Waldos.append(keras.utils.img_to_array(Image.open('../data/src2/OnlyWaldoHeads/6.png').convert('RGB')))\n",
    "Waldos.append(keras.utils.img_to_array(Image.open('../data/src2/OnlyWaldoHeads/9.png').convert('RGB')))\n",
    "Waldos.append(keras.utils.img_to_array(Image.open('../data/src2/OnlyWaldoHeads/14.png').convert('RGB')))\n",
    "Waldos.append(keras.utils.img_to_array(Image.open('../data/src2/OnlyWaldoHeads/16.png').convert('RGB')))\n",
    "\n",
    "Waldos = np.array(Waldos)\n",
    "\n",
    "\n",
    "\n",
    "print(Waldos.shape)"
   ]
  },
  {
   "cell_type": "code",
   "execution_count": 63,
   "metadata": {},
   "outputs": [],
   "source": [
    "# Slide the Waldo image over the data\n",
    "\n",
    "def find_waldo_in_img(waldos, img):\n",
    "    min_res = None\n",
    "    min_val = None\n",
    "    min_waldo = None\n",
    "    min_idx = None\n",
    "    for waldo in waldos:\n",
    "        waldo = waldo / 255.0\n",
    "        img = img / 255.0\n",
    "        waldo_h, waldo_w, _ = waldo.shape\n",
    "        img_h, img_w, _ = img.shape\n",
    "        # for each possible position of the waldo image calculate the difference between the waldo image and the image\n",
    "        # and sum the differences\n",
    "        # return the position with the smallest difference and matrix of differences\n",
    "        result = np.zeros((img_h - waldo_h, img_w - waldo_w))\n",
    "        for i in range(img_h - waldo_h):\n",
    "            for j in range(img_w - waldo_w):\n",
    "                result[i, j] = np.sum(np.abs(img[i:i + waldo_h, j:j + waldo_w] - waldo))\n",
    "        min_local = np.unravel_index(np.argmin(result), result.shape)\n",
    "        if min_res is None or np.min(result) < min_val:\n",
    "            min_res = result    \n",
    "            min_val = np.min(result)\n",
    "            min_waldo = waldo\n",
    "            min_idx = min_local\n",
    "    return min_res, min_val, min_waldo, min_idx"
   ]
  },
  {
   "cell_type": "code",
   "execution_count": 65,
   "metadata": {},
   "outputs": [
    {
     "name": "stdout",
     "output_type": "stream",
     "text": [
      "1 31 1\n",
      "2 62 2\n",
      "3 93 3\n",
      "4 124 4\n",
      "5 155 5\n",
      "6 186 6\n",
      "7 217 7\n",
      "8 248 8\n",
      "9 279 9\n",
      "10 310 10\n",
      "597.7921142578125\n",
      "597.6803372290826\n"
     ]
    },
    {
     "data": {
      "text/plain": [
       "<function print>"
      ]
     },
     "execution_count": 65,
     "metadata": {},
     "output_type": "execute_result"
    }
   ],
   "source": [
    "# Calculate the average minimal difference in images with Waldo and without Waldo\n",
    "\n",
    "# split the data into images with Waldo and without Waldo\n",
    "\n",
    "sum_waldo = 0\n",
    "sum_no_waldo = 0\n",
    "count_waldo = 0\n",
    "count_no_waldo = 0\n",
    "\n",
    "batches_tested = 0\n",
    "\n",
    "for image_batch, labels_batch in train_ds:\n",
    "    # if batch has no images with Waldo, skip it\n",
    "    if np.sum(labels_batch) == 0:\n",
    "        continue\n",
    "    batches_tested += 1\n",
    "    for i in range(len(image_batch)):\n",
    "        if labels_batch[i] == 1:\n",
    "            count_waldo += 1\n",
    "            res, min_val, min_waldo, min_idx = find_waldo_in_img(Waldos, image_batch[i])\n",
    "            sum_waldo += min_val\n",
    "        else:\n",
    "            count_no_waldo += 1\n",
    "            res, min_val, min_waldo, min_idx = find_waldo_in_img(Waldos, image_batch[i])\n",
    "            sum_no_waldo += min_val\n",
    "    # print(count_waldo, count_no_waldo, batches_tested)\n",
    "    if batches_tested >= 10:\n",
    "        break\n",
    "\n",
    "if count_waldo != 0:\n",
    "    print(sum_waldo/count_waldo)\n",
    "if count_no_waldo != 0:\n",
    "    print(sum_no_waldo/count_no_waldo)\n",
    "    \n",
    "print"
   ]
  }
 ],
 "metadata": {
  "kernelspec": {
   "display_name": "ox",
   "language": "python",
   "name": "python3"
  },
  "language_info": {
   "codemirror_mode": {
    "name": "ipython",
    "version": 3
   },
   "file_extension": ".py",
   "mimetype": "text/x-python",
   "name": "python",
   "nbconvert_exporter": "python",
   "pygments_lexer": "ipython3",
   "version": "3.10.13"
  }
 },
 "nbformat": 4,
 "nbformat_minor": 2
}
