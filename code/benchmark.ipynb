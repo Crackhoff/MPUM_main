{
 "cells": [
  {
   "cell_type": "markdown",
   "metadata": {},
   "source": [
    "### In this notebook we use tensorflow CNN model to find waldo."
   ]
  },
  {
   "cell_type": "code",
   "execution_count": 57,
   "metadata": {
    "ExecuteTime": {
     "end_time": "2024-06-13T20:51:16.234237Z",
     "start_time": "2024-06-13T20:51:16.231081Z"
    }
   },
   "outputs": [],
   "source": [
    "%%capture\n",
    "\n",
    "import tensorflow as tf\n",
    "from tensorflow.keras.layers import Conv2D, MaxPooling2D, Flatten, Dense, Dropout, Lambda, Resizing\n",
    "from tensorflow.keras.models import Sequential\n",
    "from tensorflow.keras.preprocessing import image\n",
    "\n",
    "import numpy as np\n",
    "import matplotlib.pyplot as plt\n",
    "\n",
    "from tqdm import tqdm\n",
    "\n",
    "from img_gen import create_sample"
   ]
  },
  {
   "cell_type": "code",
   "execution_count": 58,
   "metadata": {
    "ExecuteTime": {
     "end_time": "2024-06-13T20:51:16.237290Z",
     "start_time": "2024-06-13T20:51:16.235600Z"
    }
   },
   "outputs": [],
   "source": [
    "#constants\n",
    "IMG_SIZE = 64"
   ]
  },
  {
   "cell_type": "code",
   "execution_count": 59,
   "metadata": {
    "ExecuteTime": {
     "end_time": "2024-06-13T20:51:16.239709Z",
     "start_time": "2024-06-13T20:51:16.238067Z"
    }
   },
   "outputs": [],
   "source": [
    "# # creating waldo images\n",
    "# create_sample(IMG_SIZE,4017)"
   ]
  },
  {
   "cell_type": "code",
   "outputs": [
    {
     "name": "stdout",
     "output_type": "stream",
     "text": [
      "Found 9354 files belonging to 2 classes.\n",
      "Using 7484 files for training.\n",
      "Using 1870 files for validation.\n",
      "['notwaldo', 'waldo']\n"
     ]
    }
   ],
   "source": [
    "train_ds, test_ds = tf.keras.utils.image_dataset_from_directory(\n",
    "    '../data/selfmade',\n",
    "    validation_split=0.2,\n",
    "    subset=\"both\",\n",
    "    seed=123,\n",
    "    image_size=(IMG_SIZE, IMG_SIZE),\n",
    "    batch_size=32)\n",
    "\n",
    "print(test_ds.class_names)"
   ],
   "metadata": {
    "ExecuteTime": {
     "end_time": "2024-06-13T20:51:16.562386Z",
     "start_time": "2024-06-13T20:51:16.240826Z"
    }
   },
   "execution_count": 60
  },
  {
   "cell_type": "code",
   "outputs": [
    {
     "name": "stdout",
     "output_type": "stream",
     "text": [
      "Class 0: 1104 elements\n",
      "Class 1: 766 elements\n"
     ]
    },
    {
     "name": "stderr",
     "output_type": "stream",
     "text": [
      "2024-06-13 22:51:16.633629: W tensorflow/core/framework/local_rendezvous.cc:404] Local rendezvous is aborting with status: OUT_OF_RANGE: End of sequence\n"
     ]
    }
   ],
   "source": [
    "from collections import Counter\n",
    "\n",
    "label_counter = Counter()\n",
    "\n",
    "for images, labels in test_ds:\n",
    "    labels_np = labels.numpy()\n",
    "    label_counter.update(labels_np)\n",
    "\n",
    "# Print the number of elements for each class\n",
    "for label, count in label_counter.items():\n",
    "    print(f\"Class {label}: {count} elements\")"
   ],
   "metadata": {
    "ExecuteTime": {
     "end_time": "2024-06-13T20:51:16.636154Z",
     "start_time": "2024-06-13T20:51:16.563178Z"
    }
   },
   "execution_count": 61
  },
  {
   "cell_type": "code",
   "outputs": [],
   "source": [
    "def get_conv(input_shape=(IMG_SIZE, IMG_SIZE, 3), filename=None):\n",
    "    model = Sequential()\n",
    "    model.add(Conv2D(32, (3, 3), activation='relu', input_shape=input_shape))\n",
    "    model.add(MaxPooling2D(2, 2))\n",
    "    model.add(Conv2D(64, (3, 3), activation='relu'))\n",
    "    model.add(MaxPooling2D(2, 2))\n",
    "    model.add(Conv2D(64, (3, 3), activation='relu'))\n",
    "    model.add(MaxPooling2D(2, 2))\n",
    "    model.add(Flatten())\n",
    "    model.add(Dense(1024, activation='relu'))\n",
    "    model.add(Dense(2, activation='softmax'))\n",
    "    model.compile(optimizer='adam', loss='categorical_crossentropy', metrics=['accuracy'])\n",
    "    return model\n",
    "\n",
    "\n",
    "model = get_conv()"
   ],
   "metadata": {
    "ExecuteTime": {
     "end_time": "2024-06-13T20:51:16.703925Z",
     "start_time": "2024-06-13T20:51:16.637360Z"
    }
   },
   "execution_count": 62
  },
  {
   "cell_type": "code",
   "outputs": [],
   "source": [
    "from tensorflow.keras.applications import ResNet50\n",
    "\n",
    "# model = get_conv()\n",
    "# model.summary()\n",
    "# model2 = Sequential()\n",
    "# model2.add(Resizing(224,224))\n",
    "# model2.add(ResNet50(include_top=False, weights='imagenet', input_shape=(224,224,3)))\n",
    "# model2.add(Flatten())\n",
    "# model2.add(Dense(1024, activation='relu'))\n",
    "# model2.add(Dense(2, activation='softmax'))"
   ],
   "metadata": {
    "ExecuteTime": {
     "end_time": "2024-06-13T20:51:16.707644Z",
     "start_time": "2024-06-13T20:51:16.704964Z"
    }
   },
   "execution_count": 63
  },
  {
   "cell_type": "code",
   "execution_count": 64,
   "metadata": {
    "ExecuteTime": {
     "end_time": "2024-06-13T20:51:17.261588Z",
     "start_time": "2024-06-13T20:51:16.708627Z"
    }
   },
   "outputs": [
    {
     "data": {
      "text/plain": "\u001B[1mModel: \"sequential_1\"\u001B[0m\n",
      "text/html": "<pre style=\"white-space:pre;overflow-x:auto;line-height:normal;font-family:Menlo,'DejaVu Sans Mono',consolas,'Courier New',monospace\"><span style=\"font-weight: bold\">Model: \"sequential_1\"</span>\n</pre>\n"
     },
     "metadata": {},
     "output_type": "display_data"
    },
    {
     "data": {
      "text/plain": "┏━━━━━━━━━━━━━━━━━━━━━━━━━━━━━━━━━┳━━━━━━━━━━━━━━━━━━━━━━━━┳━━━━━━━━━━━━━━━┓\n┃\u001B[1m \u001B[0m\u001B[1mLayer (type)                   \u001B[0m\u001B[1m \u001B[0m┃\u001B[1m \u001B[0m\u001B[1mOutput Shape          \u001B[0m\u001B[1m \u001B[0m┃\u001B[1m \u001B[0m\u001B[1m      Param #\u001B[0m\u001B[1m \u001B[0m┃\n┡━━━━━━━━━━━━━━━━━━━━━━━━━━━━━━━━━╇━━━━━━━━━━━━━━━━━━━━━━━━╇━━━━━━━━━━━━━━━┩\n│ conv2d_3 (\u001B[38;5;33mConv2D\u001B[0m)               │ (\u001B[38;5;45mNone\u001B[0m, \u001B[38;5;34m62\u001B[0m, \u001B[38;5;34m62\u001B[0m, \u001B[38;5;34m32\u001B[0m)     │           \u001B[38;5;34m896\u001B[0m │\n├─────────────────────────────────┼────────────────────────┼───────────────┤\n│ max_pooling2d_3 (\u001B[38;5;33mMaxPooling2D\u001B[0m)  │ (\u001B[38;5;45mNone\u001B[0m, \u001B[38;5;34m31\u001B[0m, \u001B[38;5;34m31\u001B[0m, \u001B[38;5;34m32\u001B[0m)     │             \u001B[38;5;34m0\u001B[0m │\n├─────────────────────────────────┼────────────────────────┼───────────────┤\n│ conv2d_4 (\u001B[38;5;33mConv2D\u001B[0m)               │ (\u001B[38;5;45mNone\u001B[0m, \u001B[38;5;34m29\u001B[0m, \u001B[38;5;34m29\u001B[0m, \u001B[38;5;34m64\u001B[0m)     │        \u001B[38;5;34m18,496\u001B[0m │\n├─────────────────────────────────┼────────────────────────┼───────────────┤\n│ max_pooling2d_4 (\u001B[38;5;33mMaxPooling2D\u001B[0m)  │ (\u001B[38;5;45mNone\u001B[0m, \u001B[38;5;34m14\u001B[0m, \u001B[38;5;34m14\u001B[0m, \u001B[38;5;34m64\u001B[0m)     │             \u001B[38;5;34m0\u001B[0m │\n├─────────────────────────────────┼────────────────────────┼───────────────┤\n│ conv2d_5 (\u001B[38;5;33mConv2D\u001B[0m)               │ (\u001B[38;5;45mNone\u001B[0m, \u001B[38;5;34m12\u001B[0m, \u001B[38;5;34m12\u001B[0m, \u001B[38;5;34m64\u001B[0m)     │        \u001B[38;5;34m36,928\u001B[0m │\n├─────────────────────────────────┼────────────────────────┼───────────────┤\n│ max_pooling2d_5 (\u001B[38;5;33mMaxPooling2D\u001B[0m)  │ (\u001B[38;5;45mNone\u001B[0m, \u001B[38;5;34m6\u001B[0m, \u001B[38;5;34m6\u001B[0m, \u001B[38;5;34m64\u001B[0m)       │             \u001B[38;5;34m0\u001B[0m │\n├─────────────────────────────────┼────────────────────────┼───────────────┤\n│ flatten_1 (\u001B[38;5;33mFlatten\u001B[0m)             │ (\u001B[38;5;45mNone\u001B[0m, \u001B[38;5;34m2304\u001B[0m)           │             \u001B[38;5;34m0\u001B[0m │\n├─────────────────────────────────┼────────────────────────┼───────────────┤\n│ dense_2 (\u001B[38;5;33mDense\u001B[0m)                 │ (\u001B[38;5;45mNone\u001B[0m, \u001B[38;5;34m1024\u001B[0m)           │     \u001B[38;5;34m2,360,320\u001B[0m │\n├─────────────────────────────────┼────────────────────────┼───────────────┤\n│ dense_3 (\u001B[38;5;33mDense\u001B[0m)                 │ (\u001B[38;5;45mNone\u001B[0m, \u001B[38;5;34m2\u001B[0m)              │         \u001B[38;5;34m2,050\u001B[0m │\n└─────────────────────────────────┴────────────────────────┴───────────────┘\n",
      "text/html": "<pre style=\"white-space:pre;overflow-x:auto;line-height:normal;font-family:Menlo,'DejaVu Sans Mono',consolas,'Courier New',monospace\">┏━━━━━━━━━━━━━━━━━━━━━━━━━━━━━━━━━┳━━━━━━━━━━━━━━━━━━━━━━━━┳━━━━━━━━━━━━━━━┓\n┃<span style=\"font-weight: bold\"> Layer (type)                    </span>┃<span style=\"font-weight: bold\"> Output Shape           </span>┃<span style=\"font-weight: bold\">       Param # </span>┃\n┡━━━━━━━━━━━━━━━━━━━━━━━━━━━━━━━━━╇━━━━━━━━━━━━━━━━━━━━━━━━╇━━━━━━━━━━━━━━━┩\n│ conv2d_3 (<span style=\"color: #0087ff; text-decoration-color: #0087ff\">Conv2D</span>)               │ (<span style=\"color: #00d7ff; text-decoration-color: #00d7ff\">None</span>, <span style=\"color: #00af00; text-decoration-color: #00af00\">62</span>, <span style=\"color: #00af00; text-decoration-color: #00af00\">62</span>, <span style=\"color: #00af00; text-decoration-color: #00af00\">32</span>)     │           <span style=\"color: #00af00; text-decoration-color: #00af00\">896</span> │\n├─────────────────────────────────┼────────────────────────┼───────────────┤\n│ max_pooling2d_3 (<span style=\"color: #0087ff; text-decoration-color: #0087ff\">MaxPooling2D</span>)  │ (<span style=\"color: #00d7ff; text-decoration-color: #00d7ff\">None</span>, <span style=\"color: #00af00; text-decoration-color: #00af00\">31</span>, <span style=\"color: #00af00; text-decoration-color: #00af00\">31</span>, <span style=\"color: #00af00; text-decoration-color: #00af00\">32</span>)     │             <span style=\"color: #00af00; text-decoration-color: #00af00\">0</span> │\n├─────────────────────────────────┼────────────────────────┼───────────────┤\n│ conv2d_4 (<span style=\"color: #0087ff; text-decoration-color: #0087ff\">Conv2D</span>)               │ (<span style=\"color: #00d7ff; text-decoration-color: #00d7ff\">None</span>, <span style=\"color: #00af00; text-decoration-color: #00af00\">29</span>, <span style=\"color: #00af00; text-decoration-color: #00af00\">29</span>, <span style=\"color: #00af00; text-decoration-color: #00af00\">64</span>)     │        <span style=\"color: #00af00; text-decoration-color: #00af00\">18,496</span> │\n├─────────────────────────────────┼────────────────────────┼───────────────┤\n│ max_pooling2d_4 (<span style=\"color: #0087ff; text-decoration-color: #0087ff\">MaxPooling2D</span>)  │ (<span style=\"color: #00d7ff; text-decoration-color: #00d7ff\">None</span>, <span style=\"color: #00af00; text-decoration-color: #00af00\">14</span>, <span style=\"color: #00af00; text-decoration-color: #00af00\">14</span>, <span style=\"color: #00af00; text-decoration-color: #00af00\">64</span>)     │             <span style=\"color: #00af00; text-decoration-color: #00af00\">0</span> │\n├─────────────────────────────────┼────────────────────────┼───────────────┤\n│ conv2d_5 (<span style=\"color: #0087ff; text-decoration-color: #0087ff\">Conv2D</span>)               │ (<span style=\"color: #00d7ff; text-decoration-color: #00d7ff\">None</span>, <span style=\"color: #00af00; text-decoration-color: #00af00\">12</span>, <span style=\"color: #00af00; text-decoration-color: #00af00\">12</span>, <span style=\"color: #00af00; text-decoration-color: #00af00\">64</span>)     │        <span style=\"color: #00af00; text-decoration-color: #00af00\">36,928</span> │\n├─────────────────────────────────┼────────────────────────┼───────────────┤\n│ max_pooling2d_5 (<span style=\"color: #0087ff; text-decoration-color: #0087ff\">MaxPooling2D</span>)  │ (<span style=\"color: #00d7ff; text-decoration-color: #00d7ff\">None</span>, <span style=\"color: #00af00; text-decoration-color: #00af00\">6</span>, <span style=\"color: #00af00; text-decoration-color: #00af00\">6</span>, <span style=\"color: #00af00; text-decoration-color: #00af00\">64</span>)       │             <span style=\"color: #00af00; text-decoration-color: #00af00\">0</span> │\n├─────────────────────────────────┼────────────────────────┼───────────────┤\n│ flatten_1 (<span style=\"color: #0087ff; text-decoration-color: #0087ff\">Flatten</span>)             │ (<span style=\"color: #00d7ff; text-decoration-color: #00d7ff\">None</span>, <span style=\"color: #00af00; text-decoration-color: #00af00\">2304</span>)           │             <span style=\"color: #00af00; text-decoration-color: #00af00\">0</span> │\n├─────────────────────────────────┼────────────────────────┼───────────────┤\n│ dense_2 (<span style=\"color: #0087ff; text-decoration-color: #0087ff\">Dense</span>)                 │ (<span style=\"color: #00d7ff; text-decoration-color: #00d7ff\">None</span>, <span style=\"color: #00af00; text-decoration-color: #00af00\">1024</span>)           │     <span style=\"color: #00af00; text-decoration-color: #00af00\">2,360,320</span> │\n├─────────────────────────────────┼────────────────────────┼───────────────┤\n│ dense_3 (<span style=\"color: #0087ff; text-decoration-color: #0087ff\">Dense</span>)                 │ (<span style=\"color: #00d7ff; text-decoration-color: #00d7ff\">None</span>, <span style=\"color: #00af00; text-decoration-color: #00af00\">2</span>)              │         <span style=\"color: #00af00; text-decoration-color: #00af00\">2,050</span> │\n└─────────────────────────────────┴────────────────────────┴───────────────┘\n</pre>\n"
     },
     "metadata": {},
     "output_type": "display_data"
    },
    {
     "data": {
      "text/plain": "\u001B[1m Total params: \u001B[0m\u001B[38;5;34m7,256,072\u001B[0m (27.68 MB)\n",
      "text/html": "<pre style=\"white-space:pre;overflow-x:auto;line-height:normal;font-family:Menlo,'DejaVu Sans Mono',consolas,'Courier New',monospace\"><span style=\"font-weight: bold\"> Total params: </span><span style=\"color: #00af00; text-decoration-color: #00af00\">7,256,072</span> (27.68 MB)\n</pre>\n"
     },
     "metadata": {},
     "output_type": "display_data"
    },
    {
     "data": {
      "text/plain": "\u001B[1m Trainable params: \u001B[0m\u001B[38;5;34m2,418,690\u001B[0m (9.23 MB)\n",
      "text/html": "<pre style=\"white-space:pre;overflow-x:auto;line-height:normal;font-family:Menlo,'DejaVu Sans Mono',consolas,'Courier New',monospace\"><span style=\"font-weight: bold\"> Trainable params: </span><span style=\"color: #00af00; text-decoration-color: #00af00\">2,418,690</span> (9.23 MB)\n</pre>\n"
     },
     "metadata": {},
     "output_type": "display_data"
    },
    {
     "data": {
      "text/plain": "\u001B[1m Non-trainable params: \u001B[0m\u001B[38;5;34m0\u001B[0m (0.00 B)\n",
      "text/html": "<pre style=\"white-space:pre;overflow-x:auto;line-height:normal;font-family:Menlo,'DejaVu Sans Mono',consolas,'Courier New',monospace\"><span style=\"font-weight: bold\"> Non-trainable params: </span><span style=\"color: #00af00; text-decoration-color: #00af00\">0</span> (0.00 B)\n</pre>\n"
     },
     "metadata": {},
     "output_type": "display_data"
    },
    {
     "data": {
      "text/plain": "\u001B[1m Optimizer params: \u001B[0m\u001B[38;5;34m4,837,382\u001B[0m (18.45 MB)\n",
      "text/html": "<pre style=\"white-space:pre;overflow-x:auto;line-height:normal;font-family:Menlo,'DejaVu Sans Mono',consolas,'Courier New',monospace\"><span style=\"font-weight: bold\"> Optimizer params: </span><span style=\"color: #00af00; text-decoration-color: #00af00\">4,837,382</span> (18.45 MB)\n</pre>\n"
     },
     "metadata": {},
     "output_type": "display_data"
    }
   ],
   "source": [
    "# model.compile(optimizer='adam',\n",
    "#               loss=tf.keras.losses.SparseCategoricalCrossentropy(from_logits=True),\n",
    "#               metrics=['accuracy'])\n",
    "# \n",
    "# history = model.fit(train_ds, validation_data=test_ds, epochs=5)\n",
    "# model.save('1306_1816.keras')\n",
    "\n",
    "model = tf.keras.models.load_model('../models/1816.keras')\n",
    "model.summary()"
   ]
  },
  {
   "cell_type": "code",
   "execution_count": 65,
   "metadata": {
    "ExecuteTime": {
     "end_time": "2024-06-13T20:51:17.264390Z",
     "start_time": "2024-06-13T20:51:17.262519Z"
    }
   },
   "outputs": [],
   "source": [
    "# plt.plot(history.history['accuracy'], label='accuracy')\n",
    "# plt.plot(history.history['val_accuracy'], label = 'val_accuracy')\n",
    "# plt.xlabel('Epoch')\n",
    "# plt.ylabel('Accuracy')\n",
    "# plt.ylim([0.3, 1])\n",
    "# plt.legend(loc='lower right')\n"
   ]
  },
  {
   "cell_type": "code",
   "outputs": [
    {
     "name": "stdout",
     "output_type": "stream",
     "text": [
      "\u001B[1m8/8\u001B[0m \u001B[32m━━━━━━━━━━━━━━━━━━━━\u001B[0m\u001B[37m\u001B[0m \u001B[1m0s\u001B[0m 16ms/step\n",
      "Manual checking accuracy on train data: 100.00%\n",
      "\u001B[1m2/2\u001B[0m \u001B[32m━━━━━━━━━━━━━━━━━━━━\u001B[0m\u001B[37m\u001B[0m \u001B[1m0s\u001B[0m 9ms/step \n",
      "Manual checking accuracy on test data: 100.00%\n"
     ]
    }
   ],
   "source": [
    "train_images, train_labels = next(iter(train_ds.unbatch().batch(len(train_ds))))\n",
    "test_images, test_labels = next(iter(test_ds.unbatch().batch(len(test_ds))))\n",
    "\n",
    "for type, images, labels in [['train', train_images, train_labels], ['test', test_images, test_labels]]:\n",
    "    pred = model.predict(images)\n",
    "    pred_labels = tf.argmax(pred, axis=1)\n",
    "    pred_labels = tf.cast(pred_labels, tf.int32)\n",
    "\n",
    "    correct = tf.reduce_sum(tf.cast(pred_labels == labels, tf.int32))\n",
    "    accuracy = correct / len(labels)\n",
    "\n",
    "    print(f\"Manual checking accuracy on {type} data: {accuracy * 100:.2f}%\")"
   ],
   "metadata": {
    "ExecuteTime": {
     "end_time": "2024-06-13T20:51:17.638579Z",
     "start_time": "2024-06-13T20:51:17.265232Z"
    }
   },
   "execution_count": 66
  },
  {
   "cell_type": "code",
   "execution_count": 67,
   "metadata": {
    "ExecuteTime": {
     "end_time": "2024-06-13T20:51:17.676090Z",
     "start_time": "2024-06-13T20:51:17.641244Z"
    }
   },
   "outputs": [
    {
     "data": {
      "text/plain": "[('10_0_0.jpg', 'notwaldo'),\n ('10_0_1.jpg', 'notwaldo'),\n ('10_0_10.jpg', 'notwaldo'),\n ('10_0_11.jpg', 'notwaldo'),\n ('10_0_12.jpg', 'notwaldo'),\n ('10_0_13.jpg', 'notwaldo'),\n ('10_0_14.jpg', 'notwaldo'),\n ('10_0_15.jpg', 'notwaldo'),\n ('10_0_2.jpg', 'notwaldo'),\n ('10_0_3.jpg', 'notwaldo'),\n ('10_0_4.jpg', 'notwaldo'),\n ('10_0_5.jpg', 'notwaldo'),\n ('10_0_6.jpg', 'notwaldo'),\n ('10_0_7.jpg', 'notwaldo'),\n ('10_0_8.jpg', 'notwaldo'),\n ('10_0_9.jpg', 'notwaldo'),\n ('10_10_0.jpg', 'notwaldo'),\n ('10_10_1.jpg', 'notwaldo'),\n ('10_10_10.jpg', 'notwaldo'),\n ('10_10_11.jpg', 'notwaldo'),\n ('10_10_12.jpg', 'notwaldo'),\n ('10_10_13.jpg', 'notwaldo'),\n ('10_10_14.jpg', 'notwaldo'),\n ('10_10_15.jpg', 'notwaldo'),\n ('10_10_2.jpg', 'notwaldo'),\n ('10_10_3.jpg', 'notwaldo'),\n ('10_10_4.jpg', 'notwaldo'),\n ('10_10_5.jpg', 'notwaldo'),\n ('10_10_6.jpg', 'notwaldo'),\n ('10_10_7.jpg', 'notwaldo'),\n ('10_10_8.jpg', 'notwaldo'),\n ('10_10_9.jpg', 'notwaldo'),\n ('10_11_0.jpg', 'notwaldo'),\n ('10_11_1.jpg', 'notwaldo'),\n ('10_11_10.jpg', 'notwaldo'),\n ('10_11_11.jpg', 'notwaldo'),\n ('10_11_12.jpg', 'notwaldo'),\n ('10_11_13.jpg', 'notwaldo'),\n ('10_11_14.jpg', 'notwaldo'),\n ('10_11_15.jpg', 'notwaldo'),\n ('10_11_2.jpg', 'notwaldo'),\n ('10_11_3.jpg', 'notwaldo'),\n ('10_11_4.jpg', 'notwaldo'),\n ('10_11_5.jpg', 'notwaldo'),\n ('10_11_6.jpg', 'notwaldo'),\n ('10_11_7.jpg', 'notwaldo'),\n ('10_11_8.jpg', 'notwaldo'),\n ('10_11_9.jpg', 'notwaldo'),\n ('10_12_0.jpg', 'notwaldo'),\n ('10_12_1.jpg', 'notwaldo'),\n ('10_12_10.jpg', 'notwaldo'),\n ('10_12_11.jpg', 'notwaldo'),\n ('10_12_12.jpg', 'notwaldo'),\n ('10_12_13.jpg', 'notwaldo'),\n ('10_12_14.jpg', 'notwaldo'),\n ('10_12_15.jpg', 'notwaldo'),\n ('10_12_2.jpg', 'notwaldo'),\n ('10_12_3.jpg', 'notwaldo'),\n ('10_12_4.jpg', 'notwaldo'),\n ('10_12_5.jpg', 'notwaldo'),\n ('10_12_6.jpg', 'notwaldo'),\n ('10_12_7.jpg', 'notwaldo'),\n ('10_12_8.jpg', 'notwaldo'),\n ('10_12_9.jpg', 'notwaldo'),\n ('10_13_0.jpg', 'notwaldo'),\n ('10_13_1.jpg', 'notwaldo'),\n ('10_13_10.jpg', 'notwaldo'),\n ('10_13_11.jpg', 'notwaldo'),\n ('10_13_12.jpg', 'notwaldo'),\n ('10_13_13.jpg', 'notwaldo'),\n ('10_13_14.jpg', 'notwaldo'),\n ('10_13_15.jpg', 'notwaldo'),\n ('10_13_2.jpg', 'notwaldo'),\n ('10_13_3.jpg', 'notwaldo'),\n ('10_13_4.jpg', 'notwaldo'),\n ('10_13_5.jpg', 'notwaldo'),\n ('10_13_6.jpg', 'notwaldo'),\n ('10_13_7.jpg', 'notwaldo'),\n ('10_13_8.jpg', 'notwaldo'),\n ('10_13_9.jpg', 'notwaldo'),\n ('10_14_0.jpg', 'notwaldo'),\n ('10_14_1.jpg', 'notwaldo'),\n ('10_14_10.jpg', 'notwaldo'),\n ('10_14_11.jpg', 'notwaldo'),\n ('10_14_12.jpg', 'notwaldo'),\n ('10_14_13.jpg', 'notwaldo'),\n ('10_14_14.jpg', 'notwaldo'),\n ('10_14_15.jpg', 'notwaldo'),\n ('10_14_2.jpg', 'notwaldo'),\n ('10_14_3.jpg', 'notwaldo'),\n ('10_14_4.jpg', 'notwaldo'),\n ('10_14_5.jpg', 'notwaldo'),\n ('10_14_6.jpg', 'notwaldo'),\n ('10_14_7.jpg', 'notwaldo'),\n ('10_14_8.jpg', 'notwaldo'),\n ('10_14_9.jpg', 'notwaldo'),\n ('10_15_0.jpg', 'notwaldo'),\n ('10_15_1.jpg', 'notwaldo'),\n ('10_15_10.jpg', 'notwaldo'),\n ('10_15_11.jpg', 'notwaldo'),\n ('10_15_12.jpg', 'notwaldo'),\n ('10_15_13.jpg', 'notwaldo'),\n ('10_15_14.jpg', 'notwaldo'),\n ('10_15_15.jpg', 'notwaldo'),\n ('10_15_2.jpg', 'notwaldo'),\n ('10_15_3.jpg', 'notwaldo'),\n ('10_15_4.jpg', 'waldo'),\n ('10_15_5.jpg', 'notwaldo'),\n ('10_15_6.jpg', 'notwaldo'),\n ('10_15_7.jpg', 'notwaldo'),\n ('10_15_8.jpg', 'notwaldo'),\n ('10_15_9.jpg', 'notwaldo'),\n ('10_1_0.jpg', 'notwaldo'),\n ('10_1_1.jpg', 'notwaldo'),\n ('10_1_10.jpg', 'notwaldo'),\n ('10_1_11.jpg', 'notwaldo'),\n ('10_1_12.jpg', 'notwaldo'),\n ('10_1_13.jpg', 'notwaldo'),\n ('10_1_14.jpg', 'notwaldo'),\n ('10_1_15.jpg', 'notwaldo'),\n ('10_1_2.jpg', 'notwaldo'),\n ('10_1_3.jpg', 'notwaldo'),\n ('10_1_4.jpg', 'notwaldo'),\n ('10_1_5.jpg', 'notwaldo'),\n ('10_1_6.jpg', 'notwaldo'),\n ('10_1_7.jpg', 'notwaldo'),\n ('10_1_8.jpg', 'notwaldo'),\n ('10_1_9.jpg', 'notwaldo'),\n ('10_2_0.jpg', 'notwaldo'),\n ('10_2_1.jpg', 'notwaldo'),\n ('10_2_10.jpg', 'notwaldo'),\n ('10_2_11.jpg', 'notwaldo'),\n ('10_2_12.jpg', 'notwaldo'),\n ('10_2_13.jpg', 'notwaldo'),\n ('10_2_14.jpg', 'notwaldo'),\n ('10_2_15.jpg', 'notwaldo'),\n ('10_2_2.jpg', 'notwaldo'),\n ('10_2_3.jpg', 'notwaldo'),\n ('10_2_4.jpg', 'notwaldo'),\n ('10_2_5.jpg', 'notwaldo'),\n ('10_2_6.jpg', 'notwaldo'),\n ('10_2_7.jpg', 'notwaldo'),\n ('10_2_8.jpg', 'notwaldo'),\n ('10_2_9.jpg', 'notwaldo'),\n ('10_3_0.jpg', 'notwaldo'),\n ('10_3_1.jpg', 'notwaldo'),\n ('10_3_10.jpg', 'notwaldo'),\n ('10_3_11.jpg', 'notwaldo'),\n ('10_3_12.jpg', 'notwaldo'),\n ('10_3_13.jpg', 'notwaldo'),\n ('10_3_14.jpg', 'notwaldo'),\n ('10_3_15.jpg', 'notwaldo'),\n ('10_3_2.jpg', 'notwaldo'),\n ('10_3_3.jpg', 'notwaldo'),\n ('10_3_4.jpg', 'notwaldo'),\n ('10_3_5.jpg', 'notwaldo'),\n ('10_3_6.jpg', 'notwaldo'),\n ('10_3_7.jpg', 'notwaldo'),\n ('10_3_8.jpg', 'notwaldo'),\n ('10_3_9.jpg', 'notwaldo'),\n ('10_4_0.jpg', 'notwaldo'),\n ('10_4_1.jpg', 'notwaldo'),\n ('10_4_10.jpg', 'notwaldo'),\n ('10_4_11.jpg', 'notwaldo'),\n ('10_4_12.jpg', 'notwaldo'),\n ('10_4_13.jpg', 'notwaldo'),\n ('10_4_14.jpg', 'notwaldo'),\n ('10_4_15.jpg', 'notwaldo'),\n ('10_4_2.jpg', 'notwaldo'),\n ('10_4_3.jpg', 'notwaldo'),\n ('10_4_4.jpg', 'notwaldo'),\n ('10_4_5.jpg', 'notwaldo'),\n ('10_4_6.jpg', 'notwaldo'),\n ('10_4_7.jpg', 'notwaldo'),\n ('10_4_8.jpg', 'notwaldo'),\n ('10_4_9.jpg', 'notwaldo'),\n ('10_5_0.jpg', 'notwaldo'),\n ('10_5_1.jpg', 'notwaldo'),\n ('10_5_10.jpg', 'notwaldo'),\n ('10_5_11.jpg', 'notwaldo'),\n ('10_5_12.jpg', 'notwaldo'),\n ('10_5_13.jpg', 'notwaldo'),\n ('10_5_14.jpg', 'notwaldo'),\n ('10_5_15.jpg', 'notwaldo'),\n ('10_5_2.jpg', 'notwaldo'),\n ('10_5_3.jpg', 'notwaldo'),\n ('10_5_4.jpg', 'notwaldo'),\n ('10_5_5.jpg', 'notwaldo'),\n ('10_5_6.jpg', 'notwaldo'),\n ('10_5_7.jpg', 'notwaldo'),\n ('10_5_8.jpg', 'notwaldo'),\n ('10_5_9.jpg', 'notwaldo'),\n ('10_6_0.jpg', 'notwaldo'),\n ('10_6_1.jpg', 'notwaldo'),\n ('10_6_10.jpg', 'notwaldo'),\n ('10_6_11.jpg', 'notwaldo'),\n ('10_6_12.jpg', 'notwaldo'),\n ('10_6_13.jpg', 'notwaldo'),\n ('10_6_14.jpg', 'notwaldo'),\n ('10_6_15.jpg', 'notwaldo'),\n ('10_6_2.jpg', 'notwaldo'),\n ('10_6_3.jpg', 'notwaldo'),\n ('10_6_4.jpg', 'notwaldo'),\n ('10_6_5.jpg', 'notwaldo'),\n ('10_6_6.jpg', 'notwaldo'),\n ('10_6_7.jpg', 'notwaldo'),\n ('10_6_8.jpg', 'notwaldo'),\n ('10_6_9.jpg', 'notwaldo'),\n ('10_7_0.jpg', 'notwaldo'),\n ('10_7_1.jpg', 'notwaldo'),\n ('10_7_10.jpg', 'notwaldo'),\n ('10_7_11.jpg', 'notwaldo'),\n ('10_7_12.jpg', 'notwaldo'),\n ('10_7_13.jpg', 'notwaldo'),\n ('10_7_14.jpg', 'notwaldo'),\n ('10_7_15.jpg', 'notwaldo'),\n ('10_7_2.jpg', 'notwaldo'),\n ('10_7_3.jpg', 'notwaldo'),\n ('10_7_4.jpg', 'notwaldo'),\n ('10_7_5.jpg', 'notwaldo'),\n ('10_7_6.jpg', 'notwaldo'),\n ('10_7_7.jpg', 'notwaldo'),\n ('10_7_8.jpg', 'notwaldo'),\n ('10_7_9.jpg', 'notwaldo'),\n ('10_8_0.jpg', 'notwaldo'),\n ('10_8_1.jpg', 'notwaldo'),\n ('10_8_10.jpg', 'notwaldo'),\n ('10_8_11.jpg', 'notwaldo'),\n ('10_8_12.jpg', 'notwaldo'),\n ('10_8_13.jpg', 'notwaldo'),\n ('10_8_14.jpg', 'notwaldo'),\n ('10_8_15.jpg', 'notwaldo'),\n ('10_8_2.jpg', 'notwaldo'),\n ('10_8_3.jpg', 'notwaldo'),\n ('10_8_4.jpg', 'notwaldo'),\n ('10_8_5.jpg', 'notwaldo'),\n ('10_8_6.jpg', 'notwaldo'),\n ('10_8_7.jpg', 'notwaldo'),\n ('10_8_8.jpg', 'notwaldo'),\n ('10_8_9.jpg', 'notwaldo'),\n ('10_9_0.jpg', 'notwaldo'),\n ('10_9_1.jpg', 'notwaldo'),\n ('10_9_10.jpg', 'notwaldo'),\n ('10_9_11.jpg', 'notwaldo'),\n ('10_9_12.jpg', 'notwaldo'),\n ('10_9_13.jpg', 'notwaldo'),\n ('10_9_14.jpg', 'notwaldo'),\n ('10_9_15.jpg', 'notwaldo'),\n ('10_9_2.jpg', 'notwaldo'),\n ('10_9_3.jpg', 'notwaldo'),\n ('10_9_4.jpg', 'notwaldo'),\n ('10_9_5.jpg', 'notwaldo'),\n ('10_9_6.jpg', 'notwaldo'),\n ('10_9_7.jpg', 'notwaldo'),\n ('10_9_8.jpg', 'notwaldo'),\n ('10_9_9.jpg', 'notwaldo'),\n ('11_0_0.jpg', 'notwaldo'),\n ('11_0_1.jpg', 'notwaldo'),\n ('11_0_10.jpg', 'notwaldo'),\n ('11_0_11.jpg', 'notwaldo'),\n ('11_0_12.jpg', 'notwaldo'),\n ('11_0_13.jpg', 'notwaldo'),\n ('11_0_14.jpg', 'notwaldo'),\n ('11_0_15.jpg', 'notwaldo'),\n ('11_0_2.jpg', 'notwaldo'),\n ('11_0_3.jpg', 'notwaldo'),\n ('11_0_4.jpg', 'notwaldo'),\n ('11_0_5.jpg', 'notwaldo'),\n ('11_0_6.jpg', 'notwaldo'),\n ('11_0_7.jpg', 'notwaldo'),\n ('11_0_8.jpg', 'notwaldo'),\n ('11_0_9.jpg', 'notwaldo'),\n ('11_10_0.jpg', 'notwaldo'),\n ('11_10_1.jpg', 'notwaldo'),\n ('11_10_10.jpg', 'notwaldo'),\n ('11_10_11.jpg', 'notwaldo'),\n ('11_10_12.jpg', 'notwaldo'),\n ('11_10_13.jpg', 'notwaldo'),\n ('11_10_14.jpg', 'notwaldo'),\n ('11_10_15.jpg', 'notwaldo'),\n ('11_10_2.jpg', 'notwaldo'),\n ('11_10_3.jpg', 'notwaldo'),\n ('11_10_4.jpg', 'notwaldo'),\n ('11_10_5.jpg', 'notwaldo'),\n ('11_10_6.jpg', 'notwaldo'),\n ('11_10_7.jpg', 'notwaldo'),\n ('11_10_8.jpg', 'notwaldo'),\n ('11_10_9.jpg', 'notwaldo'),\n ('11_11_0.jpg', 'notwaldo'),\n ('11_11_1.jpg', 'notwaldo'),\n ('11_11_10.jpg', 'notwaldo'),\n ('11_11_11.jpg', 'notwaldo'),\n ('11_11_12.jpg', 'notwaldo'),\n ('11_11_13.jpg', 'notwaldo'),\n ('11_11_14.jpg', 'notwaldo'),\n ('11_11_15.jpg', 'notwaldo'),\n ('11_11_2.jpg', 'notwaldo'),\n ('11_11_3.jpg', 'notwaldo'),\n ('11_11_4.jpg', 'notwaldo'),\n ('11_11_5.jpg', 'notwaldo'),\n ('11_11_6.jpg', 'notwaldo'),\n ('11_11_7.jpg', 'notwaldo'),\n ('11_11_8.jpg', 'notwaldo'),\n ('11_11_9.jpg', 'notwaldo'),\n ('11_12_0.jpg', 'notwaldo'),\n ('11_12_1.jpg', 'notwaldo'),\n ('11_12_10.jpg', 'notwaldo'),\n ('11_12_11.jpg', 'notwaldo'),\n ('11_12_12.jpg', 'notwaldo'),\n ('11_12_13.jpg', 'notwaldo'),\n ('11_12_14.jpg', 'notwaldo'),\n ('11_12_15.jpg', 'notwaldo'),\n ('11_12_2.jpg', 'notwaldo'),\n ('11_12_3.jpg', 'notwaldo'),\n ('11_12_4.jpg', 'notwaldo'),\n ('11_12_5.jpg', 'notwaldo'),\n ('11_12_6.jpg', 'notwaldo'),\n ('11_12_7.jpg', 'notwaldo'),\n ('11_12_8.jpg', 'notwaldo'),\n ('11_12_9.jpg', 'notwaldo'),\n ('11_13_0.jpg', 'notwaldo'),\n ('11_13_1.jpg', 'notwaldo'),\n ('11_13_10.jpg', 'notwaldo'),\n ('11_13_11.jpg', 'notwaldo'),\n ('11_13_12.jpg', 'notwaldo'),\n ('11_13_13.jpg', 'notwaldo'),\n ('11_13_14.jpg', 'notwaldo'),\n ('11_13_15.jpg', 'notwaldo'),\n ('11_13_2.jpg', 'notwaldo'),\n ('11_13_3.jpg', 'notwaldo'),\n ('11_13_4.jpg', 'notwaldo'),\n ('11_13_5.jpg', 'notwaldo'),\n ('11_13_6.jpg', 'notwaldo'),\n ('11_13_7.jpg', 'notwaldo'),\n ('11_13_8.jpg', 'notwaldo'),\n ('11_13_9.jpg', 'notwaldo'),\n ('11_14_0.jpg', 'notwaldo'),\n ('11_14_1.jpg', 'notwaldo'),\n ('11_14_10.jpg', 'notwaldo'),\n ('11_14_11.jpg', 'notwaldo'),\n ('11_14_12.jpg', 'notwaldo'),\n ('11_14_13.jpg', 'notwaldo'),\n ('11_14_14.jpg', 'notwaldo'),\n ('11_14_15.jpg', 'notwaldo'),\n ('11_14_2.jpg', 'notwaldo'),\n ('11_14_3.jpg', 'notwaldo'),\n ('11_14_4.jpg', 'notwaldo'),\n ('11_14_5.jpg', 'notwaldo'),\n ('11_14_6.jpg', 'notwaldo'),\n ('11_14_7.jpg', 'notwaldo'),\n ('11_14_8.jpg', 'notwaldo'),\n ('11_14_9.jpg', 'notwaldo'),\n ('11_15_0.jpg', 'notwaldo'),\n ('11_15_1.jpg', 'notwaldo'),\n ('11_15_10.jpg', 'notwaldo'),\n ('11_15_11.jpg', 'notwaldo'),\n ('11_15_12.jpg', 'notwaldo'),\n ('11_15_13.jpg', 'notwaldo'),\n ('11_15_14.jpg', 'notwaldo'),\n ('11_15_15.jpg', 'notwaldo'),\n ('11_15_2.jpg', 'notwaldo'),\n ('11_15_3.jpg', 'notwaldo'),\n ('11_15_4.jpg', 'notwaldo'),\n ('11_15_5.jpg', 'notwaldo'),\n ('11_15_6.jpg', 'notwaldo'),\n ('11_15_7.jpg', 'notwaldo'),\n ('11_15_8.jpg', 'notwaldo'),\n ('11_15_9.jpg', 'notwaldo'),\n ('11_1_0.jpg', 'notwaldo'),\n ('11_1_1.jpg', 'notwaldo'),\n ('11_1_10.jpg', 'notwaldo'),\n ('11_1_11.jpg', 'notwaldo'),\n ('11_1_12.jpg', 'notwaldo'),\n ('11_1_13.jpg', 'notwaldo'),\n ('11_1_14.jpg', 'notwaldo'),\n ('11_1_15.jpg', 'notwaldo'),\n ('11_1_2.jpg', 'notwaldo'),\n ('11_1_3.jpg', 'notwaldo'),\n ('11_1_4.jpg', 'notwaldo'),\n ('11_1_5.jpg', 'notwaldo'),\n ('11_1_6.jpg', 'notwaldo'),\n ('11_1_7.jpg', 'notwaldo'),\n ('11_1_8.jpg', 'notwaldo'),\n ('11_1_9.jpg', 'notwaldo'),\n ('11_2_0.jpg', 'notwaldo'),\n ('11_2_1.jpg', 'notwaldo'),\n ('11_2_10.jpg', 'notwaldo'),\n ('11_2_11.jpg', 'notwaldo'),\n ('11_2_12.jpg', 'notwaldo'),\n ('11_2_13.jpg', 'notwaldo'),\n ('11_2_14.jpg', 'notwaldo'),\n ('11_2_15.jpg', 'notwaldo'),\n ('11_2_2.jpg', 'notwaldo'),\n ('11_2_3.jpg', 'notwaldo'),\n ('11_2_4.jpg', 'notwaldo'),\n ('11_2_5.jpg', 'notwaldo'),\n ('11_2_6.jpg', 'notwaldo'),\n ('11_2_7.jpg', 'notwaldo'),\n ('11_2_8.jpg', 'notwaldo'),\n ('11_2_9.jpg', 'notwaldo'),\n ('11_3_0.jpg', 'notwaldo'),\n ('11_3_1.jpg', 'notwaldo'),\n ('11_3_10.jpg', 'notwaldo'),\n ('11_3_11.jpg', 'notwaldo'),\n ('11_3_12.jpg', 'notwaldo'),\n ('11_3_13.jpg', 'notwaldo'),\n ('11_3_14.jpg', 'notwaldo'),\n ('11_3_15.jpg', 'notwaldo'),\n ('11_3_2.jpg', 'notwaldo'),\n ('11_3_3.jpg', 'notwaldo'),\n ('11_3_4.jpg', 'notwaldo'),\n ('11_3_5.jpg', 'notwaldo'),\n ('11_3_6.jpg', 'notwaldo'),\n ('11_3_7.jpg', 'notwaldo'),\n ('11_3_8.jpg', 'notwaldo'),\n ('11_3_9.jpg', 'notwaldo'),\n ('11_4_0.jpg', 'notwaldo'),\n ('11_4_1.jpg', 'notwaldo'),\n ('11_4_10.jpg', 'notwaldo'),\n ('11_4_11.jpg', 'notwaldo'),\n ('11_4_12.jpg', 'notwaldo'),\n ('11_4_13.jpg', 'notwaldo'),\n ('11_4_14.jpg', 'notwaldo'),\n ('11_4_15.jpg', 'notwaldo'),\n ('11_4_2.jpg', 'notwaldo'),\n ('11_4_3.jpg', 'notwaldo'),\n ('11_4_4.jpg', 'notwaldo'),\n ('11_4_5.jpg', 'notwaldo'),\n ('11_4_6.jpg', 'notwaldo'),\n ('11_4_7.jpg', 'notwaldo'),\n ('11_4_8.jpg', 'notwaldo'),\n ('11_4_9.jpg', 'notwaldo'),\n ('11_5_0.jpg', 'notwaldo'),\n ('11_5_1.jpg', 'notwaldo'),\n ('11_5_10.jpg', 'notwaldo'),\n ('11_5_11.jpg', 'notwaldo'),\n ('11_5_12.jpg', 'notwaldo'),\n ('11_5_13.jpg', 'notwaldo'),\n ('11_5_14.jpg', 'notwaldo'),\n ('11_5_15.jpg', 'notwaldo'),\n ('11_5_2.jpg', 'notwaldo'),\n ('11_5_3.jpg', 'notwaldo'),\n ('11_5_4.jpg', 'notwaldo'),\n ('11_5_5.jpg', 'notwaldo'),\n ('11_5_6.jpg', 'notwaldo'),\n ('11_5_7.jpg', 'notwaldo'),\n ('11_5_8.jpg', 'notwaldo'),\n ('11_5_9.jpg', 'notwaldo'),\n ('11_6_0.jpg', 'notwaldo'),\n ('11_6_1.jpg', 'notwaldo'),\n ('11_6_10.jpg', 'notwaldo'),\n ('11_6_11.jpg', 'waldo'),\n ('11_6_12.jpg', 'notwaldo'),\n ('11_6_13.jpg', 'notwaldo'),\n ('11_6_14.jpg', 'notwaldo'),\n ('11_6_15.jpg', 'notwaldo'),\n ('11_6_2.jpg', 'notwaldo'),\n ('11_6_3.jpg', 'notwaldo'),\n ('11_6_4.jpg', 'notwaldo'),\n ('11_6_5.jpg', 'notwaldo'),\n ('11_6_6.jpg', 'notwaldo'),\n ('11_6_7.jpg', 'notwaldo'),\n ('11_6_8.jpg', 'notwaldo'),\n ('11_6_9.jpg', 'notwaldo'),\n ('11_7_0.jpg', 'notwaldo'),\n ('11_7_1.jpg', 'notwaldo'),\n ('11_7_10.jpg', 'notwaldo'),\n ('11_7_11.jpg', 'notwaldo'),\n ('11_7_12.jpg', 'notwaldo'),\n ('11_7_13.jpg', 'notwaldo'),\n ('11_7_14.jpg', 'notwaldo'),\n ('11_7_15.jpg', 'notwaldo'),\n ('11_7_2.jpg', 'notwaldo'),\n ('11_7_3.jpg', 'notwaldo'),\n ('11_7_4.jpg', 'notwaldo'),\n ('11_7_5.jpg', 'notwaldo'),\n ('11_7_6.jpg', 'notwaldo'),\n ('11_7_7.jpg', 'notwaldo'),\n ('11_7_8.jpg', 'notwaldo'),\n ('11_7_9.jpg', 'notwaldo'),\n ('11_8_0.jpg', 'notwaldo'),\n ('11_8_1.jpg', 'notwaldo'),\n ('11_8_10.jpg', 'notwaldo'),\n ('11_8_11.jpg', 'notwaldo'),\n ('11_8_12.jpg', 'notwaldo'),\n ('11_8_13.jpg', 'notwaldo'),\n ('11_8_14.jpg', 'notwaldo'),\n ('11_8_15.jpg', 'notwaldo'),\n ('11_8_2.jpg', 'notwaldo'),\n ('11_8_3.jpg', 'notwaldo'),\n ('11_8_4.jpg', 'notwaldo'),\n ('11_8_5.jpg', 'notwaldo'),\n ('11_8_6.jpg', 'notwaldo'),\n ('11_8_7.jpg', 'notwaldo'),\n ('11_8_8.jpg', 'notwaldo'),\n ('11_8_9.jpg', 'notwaldo'),\n ('11_9_0.jpg', 'notwaldo'),\n ('11_9_1.jpg', 'notwaldo'),\n ('11_9_10.jpg', 'notwaldo'),\n ('11_9_11.jpg', 'notwaldo'),\n ('11_9_12.jpg', 'notwaldo'),\n ('11_9_13.jpg', 'notwaldo'),\n ('11_9_14.jpg', 'notwaldo'),\n ('11_9_15.jpg', 'notwaldo'),\n ('11_9_2.jpg', 'notwaldo'),\n ('11_9_3.jpg', 'notwaldo'),\n ('11_9_4.jpg', 'notwaldo'),\n ('11_9_5.jpg', 'notwaldo'),\n ('11_9_6.jpg', 'notwaldo'),\n ('11_9_7.jpg', 'notwaldo'),\n ('11_9_8.jpg', 'notwaldo'),\n ('11_9_9.jpg', 'notwaldo'),\n ('12_0_0.jpg', 'notwaldo'),\n ('12_0_1.jpg', 'notwaldo'),\n ('12_0_10.jpg', 'notwaldo'),\n ('12_0_11.jpg', 'notwaldo'),\n ('12_0_12.jpg', 'notwaldo'),\n ('12_0_13.jpg', 'notwaldo'),\n ('12_0_14.jpg', 'notwaldo'),\n ('12_0_15.jpg', 'notwaldo'),\n ('12_0_2.jpg', 'notwaldo'),\n ('12_0_3.jpg', 'notwaldo'),\n ('12_0_4.jpg', 'notwaldo'),\n ('12_0_5.jpg', 'notwaldo'),\n ('12_0_6.jpg', 'notwaldo'),\n ('12_0_7.jpg', 'notwaldo'),\n ('12_0_8.jpg', 'notwaldo'),\n ('12_0_9.jpg', 'notwaldo'),\n ('12_10_0.jpg', 'notwaldo'),\n ('12_10_1.jpg', 'notwaldo'),\n ('12_10_10.jpg', 'notwaldo'),\n ('12_10_11.jpg', 'notwaldo'),\n ('12_10_12.jpg', 'notwaldo'),\n ('12_10_13.jpg', 'notwaldo'),\n ('12_10_14.jpg', 'notwaldo'),\n ('12_10_15.jpg', 'notwaldo'),\n ('12_10_2.jpg', 'notwaldo'),\n ('12_10_3.jpg', 'notwaldo'),\n ('12_10_4.jpg', 'notwaldo'),\n ('12_10_5.jpg', 'notwaldo'),\n ('12_10_6.jpg', 'notwaldo'),\n ('12_10_7.jpg', 'notwaldo'),\n ('12_10_8.jpg', 'notwaldo'),\n ('12_10_9.jpg', 'notwaldo'),\n ('12_11_0.jpg', 'notwaldo'),\n ('12_11_1.jpg', 'notwaldo'),\n ('12_11_10.jpg', 'notwaldo'),\n ('12_11_11.jpg', 'notwaldo'),\n ('12_11_12.jpg', 'notwaldo'),\n ('12_11_13.jpg', 'notwaldo'),\n ('12_11_14.jpg', 'notwaldo'),\n ('12_11_15.jpg', 'notwaldo'),\n ('12_11_2.jpg', 'notwaldo'),\n ('12_11_3.jpg', 'notwaldo'),\n ('12_11_4.jpg', 'notwaldo'),\n ('12_11_5.jpg', 'notwaldo'),\n ('12_11_6.jpg', 'notwaldo'),\n ('12_11_7.jpg', 'notwaldo'),\n ('12_11_8.jpg', 'notwaldo'),\n ('12_11_9.jpg', 'notwaldo'),\n ('12_12_0.jpg', 'notwaldo'),\n ('12_12_1.jpg', 'notwaldo'),\n ('12_12_10.jpg', 'notwaldo'),\n ('12_12_11.jpg', 'notwaldo'),\n ('12_12_12.jpg', 'notwaldo'),\n ('12_12_13.jpg', 'notwaldo'),\n ('12_12_14.jpg', 'notwaldo'),\n ('12_12_15.jpg', 'notwaldo'),\n ('12_12_2.jpg', 'notwaldo'),\n ('12_12_3.jpg', 'notwaldo'),\n ('12_12_4.jpg', 'notwaldo'),\n ('12_12_5.jpg', 'notwaldo'),\n ('12_12_6.jpg', 'notwaldo'),\n ('12_12_7.jpg', 'notwaldo'),\n ('12_12_8.jpg', 'notwaldo'),\n ('12_12_9.jpg', 'notwaldo'),\n ('12_13_0.jpg', 'notwaldo'),\n ('12_13_1.jpg', 'notwaldo'),\n ('12_13_10.jpg', 'notwaldo'),\n ('12_13_11.jpg', 'notwaldo'),\n ('12_13_12.jpg', 'notwaldo'),\n ('12_13_13.jpg', 'notwaldo'),\n ('12_13_14.jpg', 'notwaldo'),\n ('12_13_15.jpg', 'notwaldo'),\n ('12_13_2.jpg', 'notwaldo'),\n ('12_13_3.jpg', 'notwaldo'),\n ('12_13_4.jpg', 'notwaldo'),\n ('12_13_5.jpg', 'notwaldo'),\n ('12_13_6.jpg', 'notwaldo'),\n ('12_13_7.jpg', 'notwaldo'),\n ('12_13_8.jpg', 'notwaldo'),\n ('12_13_9.jpg', 'notwaldo'),\n ('12_14_0.jpg', 'notwaldo'),\n ('12_14_1.jpg', 'notwaldo'),\n ('12_14_10.jpg', 'notwaldo'),\n ('12_14_11.jpg', 'notwaldo'),\n ('12_14_12.jpg', 'notwaldo'),\n ('12_14_13.jpg', 'notwaldo'),\n ('12_14_14.jpg', 'notwaldo'),\n ('12_14_15.jpg', 'notwaldo'),\n ('12_14_2.jpg', 'notwaldo'),\n ('12_14_3.jpg', 'notwaldo'),\n ('12_14_4.jpg', 'notwaldo'),\n ('12_14_5.jpg', 'notwaldo'),\n ('12_14_6.jpg', 'notwaldo'),\n ('12_14_7.jpg', 'notwaldo'),\n ('12_14_8.jpg', 'notwaldo'),\n ('12_14_9.jpg', 'notwaldo'),\n ('12_15_0.jpg', 'notwaldo'),\n ('12_15_1.jpg', 'notwaldo'),\n ('12_15_10.jpg', 'notwaldo'),\n ('12_15_11.jpg', 'notwaldo'),\n ('12_15_12.jpg', 'notwaldo'),\n ('12_15_13.jpg', 'notwaldo'),\n ('12_15_14.jpg', 'notwaldo'),\n ('12_15_15.jpg', 'notwaldo'),\n ('12_15_2.jpg', 'notwaldo'),\n ('12_15_3.jpg', 'notwaldo'),\n ('12_15_4.jpg', 'notwaldo'),\n ('12_15_5.jpg', 'notwaldo'),\n ('12_15_6.jpg', 'notwaldo'),\n ('12_15_7.jpg', 'notwaldo'),\n ('12_15_8.jpg', 'notwaldo'),\n ('12_15_9.jpg', 'notwaldo'),\n ('12_1_0.jpg', 'notwaldo'),\n ('12_1_1.jpg', 'notwaldo'),\n ('12_1_10.jpg', 'notwaldo'),\n ('12_1_11.jpg', 'notwaldo'),\n ('12_1_12.jpg', 'notwaldo'),\n ('12_1_13.jpg', 'notwaldo'),\n ('12_1_14.jpg', 'notwaldo'),\n ('12_1_15.jpg', 'notwaldo'),\n ('12_1_2.jpg', 'notwaldo'),\n ('12_1_3.jpg', 'notwaldo'),\n ('12_1_4.jpg', 'notwaldo'),\n ('12_1_5.jpg', 'notwaldo'),\n ('12_1_6.jpg', 'notwaldo'),\n ('12_1_7.jpg', 'notwaldo'),\n ('12_1_8.jpg', 'notwaldo'),\n ('12_1_9.jpg', 'notwaldo'),\n ('12_2_0.jpg', 'notwaldo'),\n ('12_2_1.jpg', 'waldo'),\n ('12_2_10.jpg', 'notwaldo'),\n ('12_2_11.jpg', 'notwaldo'),\n ('12_2_12.jpg', 'notwaldo'),\n ('12_2_13.jpg', 'notwaldo'),\n ('12_2_14.jpg', 'notwaldo'),\n ('12_2_15.jpg', 'notwaldo'),\n ('12_2_2.jpg', 'waldo'),\n ('12_2_3.jpg', 'notwaldo'),\n ('12_2_4.jpg', 'notwaldo'),\n ('12_2_5.jpg', 'notwaldo'),\n ('12_2_6.jpg', 'notwaldo'),\n ('12_2_7.jpg', 'notwaldo'),\n ('12_2_8.jpg', 'notwaldo'),\n ('12_2_9.jpg', 'notwaldo'),\n ('12_3_0.jpg', 'notwaldo'),\n ('12_3_1.jpg', 'notwaldo'),\n ('12_3_10.jpg', 'notwaldo'),\n ('12_3_11.jpg', 'notwaldo'),\n ('12_3_12.jpg', 'waldo'),\n ('12_3_13.jpg', 'notwaldo'),\n ('12_3_14.jpg', 'notwaldo'),\n ('12_3_15.jpg', 'notwaldo'),\n ('12_3_2.jpg', 'notwaldo'),\n ('12_3_3.jpg', 'notwaldo'),\n ('12_3_4.jpg', 'notwaldo'),\n ('12_3_5.jpg', 'notwaldo'),\n ('12_3_6.jpg', 'notwaldo'),\n ('12_3_7.jpg', 'notwaldo'),\n ('12_3_8.jpg', 'notwaldo'),\n ('12_3_9.jpg', 'notwaldo'),\n ('12_4_0.jpg', 'notwaldo'),\n ('12_4_1.jpg', 'notwaldo'),\n ('12_4_10.jpg', 'notwaldo'),\n ('12_4_11.jpg', 'notwaldo'),\n ('12_4_12.jpg', 'notwaldo'),\n ('12_4_13.jpg', 'notwaldo'),\n ('12_4_14.jpg', 'notwaldo'),\n ('12_4_15.jpg', 'notwaldo'),\n ('12_4_2.jpg', 'notwaldo'),\n ('12_4_3.jpg', 'notwaldo'),\n ('12_4_4.jpg', 'notwaldo'),\n ('12_4_5.jpg', 'notwaldo'),\n ('12_4_6.jpg', 'notwaldo'),\n ('12_4_7.jpg', 'notwaldo'),\n ('12_4_8.jpg', 'notwaldo'),\n ('12_4_9.jpg', 'notwaldo'),\n ('12_5_0.jpg', 'notwaldo'),\n ('12_5_1.jpg', 'notwaldo'),\n ('12_5_10.jpg', 'notwaldo'),\n ('12_5_11.jpg', 'notwaldo'),\n ('12_5_12.jpg', 'notwaldo'),\n ('12_5_13.jpg', 'notwaldo'),\n ('12_5_14.jpg', 'notwaldo'),\n ('12_5_15.jpg', 'notwaldo'),\n ('12_5_2.jpg', 'notwaldo'),\n ('12_5_3.jpg', 'notwaldo'),\n ('12_5_4.jpg', 'notwaldo'),\n ('12_5_5.jpg', 'notwaldo'),\n ('12_5_6.jpg', 'notwaldo'),\n ('12_5_7.jpg', 'notwaldo'),\n ('12_5_8.jpg', 'notwaldo'),\n ('12_5_9.jpg', 'notwaldo'),\n ('12_6_0.jpg', 'notwaldo'),\n ('12_6_1.jpg', 'notwaldo'),\n ('12_6_10.jpg', 'notwaldo'),\n ('12_6_11.jpg', 'notwaldo'),\n ('12_6_12.jpg', 'notwaldo'),\n ('12_6_13.jpg', 'notwaldo'),\n ('12_6_14.jpg', 'notwaldo'),\n ('12_6_15.jpg', 'notwaldo'),\n ('12_6_2.jpg', 'notwaldo'),\n ('12_6_3.jpg', 'notwaldo'),\n ('12_6_4.jpg', 'notwaldo'),\n ('12_6_5.jpg', 'notwaldo'),\n ('12_6_6.jpg', 'notwaldo'),\n ('12_6_7.jpg', 'notwaldo'),\n ('12_6_8.jpg', 'notwaldo'),\n ('12_6_9.jpg', 'notwaldo'),\n ('12_7_0.jpg', 'notwaldo'),\n ('12_7_1.jpg', 'notwaldo'),\n ('12_7_10.jpg', 'notwaldo'),\n ('12_7_11.jpg', 'notwaldo'),\n ('12_7_12.jpg', 'notwaldo'),\n ('12_7_13.jpg', 'notwaldo'),\n ('12_7_14.jpg', 'notwaldo'),\n ('12_7_15.jpg', 'notwaldo'),\n ('12_7_2.jpg', 'notwaldo'),\n ('12_7_3.jpg', 'notwaldo'),\n ('12_7_4.jpg', 'notwaldo'),\n ('12_7_5.jpg', 'notwaldo'),\n ('12_7_6.jpg', 'notwaldo'),\n ('12_7_7.jpg', 'notwaldo'),\n ('12_7_8.jpg', 'notwaldo'),\n ('12_7_9.jpg', 'notwaldo'),\n ('12_8_0.jpg', 'notwaldo'),\n ('12_8_1.jpg', 'notwaldo'),\n ('12_8_10.jpg', 'notwaldo'),\n ('12_8_11.jpg', 'notwaldo'),\n ('12_8_12.jpg', 'notwaldo'),\n ('12_8_13.jpg', 'notwaldo'),\n ('12_8_14.jpg', 'notwaldo'),\n ('12_8_15.jpg', 'notwaldo'),\n ('12_8_2.jpg', 'notwaldo'),\n ('12_8_3.jpg', 'notwaldo'),\n ('12_8_4.jpg', 'notwaldo'),\n ('12_8_5.jpg', 'notwaldo'),\n ('12_8_6.jpg', 'notwaldo'),\n ('12_8_7.jpg', 'notwaldo'),\n ('12_8_8.jpg', 'notwaldo'),\n ('12_8_9.jpg', 'notwaldo'),\n ('12_9_0.jpg', 'notwaldo'),\n ('12_9_1.jpg', 'notwaldo'),\n ('12_9_10.jpg', 'notwaldo'),\n ('12_9_11.jpg', 'notwaldo'),\n ('12_9_12.jpg', 'notwaldo'),\n ('12_9_13.jpg', 'notwaldo'),\n ('12_9_14.jpg', 'notwaldo'),\n ('12_9_15.jpg', 'notwaldo'),\n ('12_9_2.jpg', 'notwaldo'),\n ('12_9_3.jpg', 'notwaldo'),\n ('12_9_4.jpg', 'notwaldo'),\n ('12_9_5.jpg', 'notwaldo'),\n ('12_9_6.jpg', 'notwaldo'),\n ('12_9_7.jpg', 'notwaldo'),\n ('12_9_8.jpg', 'notwaldo'),\n ('12_9_9.jpg', 'notwaldo'),\n ('13_0_0.jpg', 'notwaldo'),\n ('13_0_1.jpg', 'notwaldo'),\n ('13_0_10.jpg', 'notwaldo'),\n ('13_0_11.jpg', 'notwaldo'),\n ('13_0_12.jpg', 'notwaldo'),\n ('13_0_13.jpg', 'notwaldo'),\n ('13_0_14.jpg', 'notwaldo'),\n ('13_0_15.jpg', 'notwaldo'),\n ('13_0_2.jpg', 'notwaldo'),\n ('13_0_3.jpg', 'notwaldo'),\n ('13_0_4.jpg', 'notwaldo'),\n ('13_0_5.jpg', 'notwaldo'),\n ('13_0_6.jpg', 'notwaldo'),\n ('13_0_7.jpg', 'notwaldo'),\n ('13_0_8.jpg', 'notwaldo'),\n ('13_0_9.jpg', 'notwaldo'),\n ('13_10_0.jpg', 'notwaldo'),\n ('13_10_1.jpg', 'notwaldo'),\n ('13_10_10.jpg', 'notwaldo'),\n ('13_10_11.jpg', 'notwaldo'),\n ('13_10_12.jpg', 'notwaldo'),\n ('13_10_13.jpg', 'notwaldo'),\n ('13_10_14.jpg', 'notwaldo'),\n ('13_10_15.jpg', 'notwaldo'),\n ('13_10_2.jpg', 'notwaldo'),\n ('13_10_3.jpg', 'notwaldo'),\n ('13_10_4.jpg', 'notwaldo'),\n ('13_10_5.jpg', 'notwaldo'),\n ('13_10_6.jpg', 'notwaldo'),\n ('13_10_7.jpg', 'notwaldo'),\n ('13_10_8.jpg', 'notwaldo'),\n ('13_10_9.jpg', 'notwaldo'),\n ('13_11_0.jpg', 'notwaldo'),\n ('13_11_1.jpg', 'notwaldo'),\n ('13_11_10.jpg', 'notwaldo'),\n ('13_11_11.jpg', 'notwaldo'),\n ('13_11_12.jpg', 'notwaldo'),\n ('13_11_13.jpg', 'notwaldo'),\n ('13_11_14.jpg', 'notwaldo'),\n ('13_11_15.jpg', 'notwaldo'),\n ('13_11_2.jpg', 'notwaldo'),\n ('13_11_3.jpg', 'notwaldo'),\n ('13_11_4.jpg', 'notwaldo'),\n ('13_11_5.jpg', 'notwaldo'),\n ('13_11_6.jpg', 'notwaldo'),\n ('13_11_7.jpg', 'notwaldo'),\n ('13_11_8.jpg', 'notwaldo'),\n ('13_11_9.jpg', 'notwaldo'),\n ('13_12_0.jpg', 'notwaldo'),\n ('13_12_1.jpg', 'notwaldo'),\n ('13_12_10.jpg', 'notwaldo'),\n ('13_12_11.jpg', 'notwaldo'),\n ('13_12_12.jpg', 'notwaldo'),\n ('13_12_13.jpg', 'notwaldo'),\n ('13_12_14.jpg', 'notwaldo'),\n ('13_12_15.jpg', 'notwaldo'),\n ('13_12_2.jpg', 'notwaldo'),\n ('13_12_3.jpg', 'notwaldo'),\n ('13_12_4.jpg', 'notwaldo'),\n ('13_12_5.jpg', 'notwaldo'),\n ('13_12_6.jpg', 'notwaldo'),\n ('13_12_7.jpg', 'notwaldo'),\n ('13_12_8.jpg', 'notwaldo'),\n ('13_12_9.jpg', 'notwaldo'),\n ('13_13_0.jpg', 'notwaldo'),\n ('13_13_1.jpg', 'notwaldo'),\n ('13_13_10.jpg', 'notwaldo'),\n ('13_13_11.jpg', 'notwaldo'),\n ('13_13_12.jpg', 'notwaldo'),\n ('13_13_13.jpg', 'notwaldo'),\n ('13_13_14.jpg', 'notwaldo'),\n ('13_13_15.jpg', 'notwaldo'),\n ('13_13_2.jpg', 'notwaldo'),\n ('13_13_3.jpg', 'notwaldo'),\n ('13_13_4.jpg', 'notwaldo'),\n ('13_13_5.jpg', 'notwaldo'),\n ('13_13_6.jpg', 'notwaldo'),\n ('13_13_7.jpg', 'notwaldo'),\n ('13_13_8.jpg', 'notwaldo'),\n ('13_13_9.jpg', 'notwaldo'),\n ('13_14_0.jpg', 'notwaldo'),\n ('13_14_1.jpg', 'notwaldo'),\n ('13_14_10.jpg', 'notwaldo'),\n ('13_14_11.jpg', 'notwaldo'),\n ('13_14_12.jpg', 'notwaldo'),\n ('13_14_13.jpg', 'notwaldo'),\n ('13_14_14.jpg', 'notwaldo'),\n ('13_14_15.jpg', 'notwaldo'),\n ('13_14_2.jpg', 'notwaldo'),\n ('13_14_3.jpg', 'notwaldo'),\n ('13_14_4.jpg', 'notwaldo'),\n ('13_14_5.jpg', 'notwaldo'),\n ('13_14_6.jpg', 'notwaldo'),\n ('13_14_7.jpg', 'notwaldo'),\n ('13_14_8.jpg', 'notwaldo'),\n ('13_14_9.jpg', 'notwaldo'),\n ('13_15_0.jpg', 'notwaldo'),\n ('13_15_1.jpg', 'notwaldo'),\n ('13_15_10.jpg', 'notwaldo'),\n ('13_15_11.jpg', 'notwaldo'),\n ('13_15_12.jpg', 'notwaldo'),\n ('13_15_13.jpg', 'notwaldo'),\n ('13_15_14.jpg', 'notwaldo'),\n ('13_15_15.jpg', 'notwaldo'),\n ('13_15_2.jpg', 'notwaldo'),\n ('13_15_3.jpg', 'notwaldo'),\n ('13_15_4.jpg', 'notwaldo'),\n ('13_15_5.jpg', 'notwaldo'),\n ('13_15_6.jpg', 'notwaldo'),\n ('13_15_7.jpg', 'notwaldo'),\n ('13_15_8.jpg', 'notwaldo'),\n ('13_15_9.jpg', 'notwaldo'),\n ('13_1_0.jpg', 'notwaldo'),\n ('13_1_1.jpg', 'waldo'),\n ('13_1_10.jpg', 'notwaldo'),\n ('13_1_11.jpg', 'notwaldo'),\n ('13_1_12.jpg', 'notwaldo'),\n ('13_1_13.jpg', 'notwaldo'),\n ('13_1_14.jpg', 'notwaldo'),\n ('13_1_15.jpg', 'notwaldo'),\n ('13_1_2.jpg', 'notwaldo'),\n ('13_1_3.jpg', 'notwaldo'),\n ('13_1_4.jpg', 'notwaldo'),\n ('13_1_5.jpg', 'notwaldo'),\n ('13_1_6.jpg', 'notwaldo'),\n ('13_1_7.jpg', 'notwaldo'),\n ('13_1_8.jpg', 'notwaldo'),\n ('13_1_9.jpg', 'notwaldo'),\n ('13_2_0.jpg', 'notwaldo'),\n ('13_2_1.jpg', 'notwaldo'),\n ('13_2_10.jpg', 'notwaldo'),\n ('13_2_11.jpg', 'waldo'),\n ('13_2_12.jpg', 'notwaldo'),\n ('13_2_13.jpg', 'notwaldo'),\n ('13_2_14.jpg', 'notwaldo'),\n ('13_2_15.jpg', 'notwaldo'),\n ('13_2_2.jpg', 'notwaldo'),\n ('13_2_3.jpg', 'notwaldo'),\n ('13_2_4.jpg', 'notwaldo'),\n ('13_2_5.jpg', 'notwaldo'),\n ('13_2_6.jpg', 'notwaldo'),\n ('13_2_7.jpg', 'notwaldo'),\n ('13_2_8.jpg', 'notwaldo'),\n ('13_2_9.jpg', 'notwaldo'),\n ('13_3_0.jpg', 'notwaldo'),\n ('13_3_1.jpg', 'notwaldo'),\n ('13_3_10.jpg', 'notwaldo'),\n ('13_3_11.jpg', 'notwaldo'),\n ('13_3_12.jpg', 'notwaldo'),\n ('13_3_13.jpg', 'notwaldo'),\n ('13_3_14.jpg', 'notwaldo'),\n ('13_3_15.jpg', 'notwaldo'),\n ('13_3_2.jpg', 'notwaldo'),\n ('13_3_3.jpg', 'notwaldo'),\n ('13_3_4.jpg', 'notwaldo'),\n ('13_3_5.jpg', 'notwaldo'),\n ('13_3_6.jpg', 'notwaldo'),\n ('13_3_7.jpg', 'notwaldo'),\n ('13_3_8.jpg', 'notwaldo'),\n ('13_3_9.jpg', 'notwaldo'),\n ('13_4_0.jpg', 'notwaldo'),\n ('13_4_1.jpg', 'notwaldo'),\n ('13_4_10.jpg', 'notwaldo'),\n ('13_4_11.jpg', 'notwaldo'),\n ('13_4_12.jpg', 'notwaldo'),\n ('13_4_13.jpg', 'notwaldo'),\n ('13_4_14.jpg', 'notwaldo'),\n ('13_4_15.jpg', 'notwaldo'),\n ('13_4_2.jpg', 'notwaldo'),\n ('13_4_3.jpg', 'notwaldo'),\n ('13_4_4.jpg', 'notwaldo'),\n ('13_4_5.jpg', 'notwaldo'),\n ('13_4_6.jpg', 'notwaldo'),\n ('13_4_7.jpg', 'notwaldo'),\n ('13_4_8.jpg', 'notwaldo'),\n ('13_4_9.jpg', 'notwaldo'),\n ('13_5_0.jpg', 'notwaldo'),\n ('13_5_1.jpg', 'notwaldo'),\n ('13_5_10.jpg', 'notwaldo'),\n ('13_5_11.jpg', 'notwaldo'),\n ('13_5_12.jpg', 'notwaldo'),\n ('13_5_13.jpg', 'notwaldo'),\n ('13_5_14.jpg', 'notwaldo'),\n ('13_5_15.jpg', 'notwaldo'),\n ('13_5_2.jpg', 'waldo'),\n ('13_5_3.jpg', 'waldo'),\n ('13_5_4.jpg', 'notwaldo'),\n ('13_5_5.jpg', 'notwaldo'),\n ('13_5_6.jpg', 'notwaldo'),\n ('13_5_7.jpg', 'notwaldo'),\n ('13_5_8.jpg', 'notwaldo'),\n ('13_5_9.jpg', 'notwaldo'),\n ('13_6_0.jpg', 'notwaldo'),\n ('13_6_1.jpg', 'notwaldo'),\n ('13_6_10.jpg', 'notwaldo'),\n ('13_6_11.jpg', 'notwaldo'),\n ('13_6_12.jpg', 'notwaldo'),\n ('13_6_13.jpg', 'notwaldo'),\n ('13_6_14.jpg', 'notwaldo'),\n ('13_6_15.jpg', 'notwaldo'),\n ('13_6_2.jpg', 'waldo'),\n ('13_6_3.jpg', 'waldo'),\n ('13_6_4.jpg', 'notwaldo'),\n ('13_6_5.jpg', 'notwaldo'),\n ('13_6_6.jpg', 'notwaldo'),\n ('13_6_7.jpg', 'notwaldo'),\n ('13_6_8.jpg', 'notwaldo'),\n ('13_6_9.jpg', 'notwaldo'),\n ('13_7_0.jpg', 'notwaldo'),\n ('13_7_1.jpg', 'notwaldo'),\n ('13_7_10.jpg', 'notwaldo'),\n ('13_7_11.jpg', 'notwaldo'),\n ('13_7_12.jpg', 'notwaldo'),\n ('13_7_13.jpg', 'notwaldo'),\n ('13_7_14.jpg', 'notwaldo'),\n ('13_7_15.jpg', 'notwaldo'),\n ('13_7_2.jpg', 'notwaldo'),\n ('13_7_3.jpg', 'notwaldo'),\n ('13_7_4.jpg', 'notwaldo'),\n ('13_7_5.jpg', 'notwaldo'),\n ('13_7_6.jpg', 'notwaldo'),\n ('13_7_7.jpg', 'notwaldo'),\n ('13_7_8.jpg', 'notwaldo'),\n ('13_7_9.jpg', 'notwaldo'),\n ('13_8_0.jpg', 'notwaldo'),\n ('13_8_1.jpg', 'notwaldo'),\n ('13_8_10.jpg', 'notwaldo'),\n ('13_8_11.jpg', 'notwaldo'),\n ('13_8_12.jpg', 'notwaldo'),\n ('13_8_13.jpg', 'notwaldo'),\n ('13_8_14.jpg', 'notwaldo'),\n ('13_8_15.jpg', 'notwaldo'),\n ...]"
     },
     "execution_count": 67,
     "metadata": {},
     "output_type": "execute_result"
    }
   ],
   "source": [
    "import os\n",
    "\n",
    "directory_path = f'../data/src1/{IMG_SIZE}'\n",
    "pref = \"\"\n",
    "filenames = [(f, 'waldo') for f in os.listdir(directory_path + '/waldo') if f.startswith(pref)] + [(f, 'notwaldo') for f\n",
    "                                                                                                   in os.listdir(\n",
    "        directory_path + '/notwaldo') if f.startswith(pref)]\n",
    "filenames.sort()\n",
    "filenames"
   ]
  },
  {
   "cell_type": "code",
   "execution_count": 68,
   "metadata": {
    "ExecuteTime": {
     "end_time": "2024-06-13T20:54:29.261670Z",
     "start_time": "2024-06-13T20:51:17.677252Z"
    }
   },
   "outputs": [
    {
     "name": "stderr",
     "output_type": "stream",
     "text": [
      "100%|██████████| 5376/5376 [03:11<00:00, 28.06it/s]"
     ]
    },
    {
     "name": "stdout",
     "output_type": "stream",
     "text": [
      "5345 31\n"
     ]
    },
    {
     "name": "stderr",
     "output_type": "stream",
     "text": [
      "\n"
     ]
    }
   ],
   "source": [
    "correct = 0\n",
    "incorrect = 0\n",
    "incorrect_files, correct_files = [], []\n",
    "\n",
    "for fname, true in tqdm(filenames):\n",
    "    img = image.load_img(f'../data/src1/{IMG_SIZE}/{true}/{fname}', target_size=(IMG_SIZE, IMG_SIZE, 3))\n",
    "    img_array = image.img_to_array(img)\n",
    "    img_array = np.expand_dims(img_array, axis=0)\n",
    "\n",
    "    prediction = model.predict(img_array, verbose=0)\n",
    "    predicted_class = 'waldo' if prediction[0][0] < prediction[0][1] else 'notwaldo'\n",
    "\n",
    "    if predicted_class == true:\n",
    "        correct += 1\n",
    "        correct_files += [f'../data/src1/{IMG_SIZE}/{true}/{fname}']\n",
    "    else:\n",
    "        incorrect_files += [f'../data/src1/{IMG_SIZE}/{true}/{fname}']\n",
    "        incorrect += 1\n",
    "\n",
    "print(correct, incorrect)"
   ]
  },
  {
   "cell_type": "code",
   "outputs": [
    {
     "name": "stdout",
     "output_type": "stream",
     "text": [
      "0.9942336309523809\n"
     ]
    }
   ],
   "source": [
    "print(correct/(correct + incorrect))"
   ],
   "metadata": {
    "collapsed": false,
    "ExecuteTime": {
     "end_time": "2024-06-13T20:59:36.253155Z",
     "start_time": "2024-06-13T20:59:36.250112Z"
    }
   },
   "execution_count": 72
  },
  {
   "cell_type": "code",
   "outputs": [
    {
     "name": "stdout",
     "output_type": "stream",
     "text": [
      "Waldo correct:  9  incorrect:  30\n",
      "Notwaldo correct:  5336  incorrect:  1\n"
     ]
    }
   ],
   "source": [
    "counter = 0\n",
    "for f in correct_files:\n",
    "    if f.startswith(f'../data/src1/{IMG_SIZE}/waldo'):\n",
    "        counter += 1\n",
    "counter2 = 0\n",
    "for f in incorrect_files:\n",
    "    if f.startswith(f'../data/src1/{IMG_SIZE}/waldo'):\n",
    "        counter2 += 1\n",
    "\n",
    "print(\"Waldo correct: \", counter, \" incorrect: \", counter2)\n",
    "\n",
    "counter = 0\n",
    "for f in correct_files:\n",
    "    if f.startswith(f'../data/src1/{IMG_SIZE}/notwaldo'):\n",
    "        counter += 1\n",
    "counter2 = 0\n",
    "for f in incorrect_files:\n",
    "    if f.startswith(f'../data/src1/{IMG_SIZE}/notwaldo'):\n",
    "        counter2 += 1\n",
    "\n",
    "print(\"Notwaldo correct: \", counter, \" incorrect: \", counter2) "
   ],
   "metadata": {
    "ExecuteTime": {
     "end_time": "2024-06-13T20:54:29.270491Z",
     "start_time": "2024-06-13T20:54:29.263473Z"
    }
   },
   "execution_count": 69
  }
 ],
 "metadata": {
  "kernelspec": {
   "display_name": "tf",
   "language": "python",
   "name": "python3"
  },
  "language_info": {
   "codemirror_mode": {
    "name": "ipython",
    "version": 3
   },
   "file_extension": ".py",
   "mimetype": "text/x-python",
   "name": "python",
   "nbconvert_exporter": "python",
   "pygments_lexer": "ipython3",
   "version": "3.10.13"
  }
 },
 "nbformat": 4,
 "nbformat_minor": 2
}
