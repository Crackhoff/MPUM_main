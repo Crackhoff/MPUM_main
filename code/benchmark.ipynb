{
 "cells": [
  {
   "cell_type": "markdown",
   "metadata": {},
   "source": [
    "### In this notebook we use tensorflow CNN model to find waldo."
   ]
  },
  {
   "cell_type": "code",
   "execution_count": 59,
   "metadata": {},
   "outputs": [],
   "source": [
    "import tensorflow as tf \n",
    "import numpy as np\n",
    "import matplotlib.pyplot as plt\n",
    "\n",
    "from img_gen import create_sample\n",
    "import cv2"
   ]
  },
  {
   "cell_type": "code",
   "execution_count": 60,
   "metadata": {},
   "outputs": [],
   "source": [
    "#constants\n",
    "IMG_SIZE = 64"
   ]
  },
  {
   "cell_type": "code",
   "execution_count": 61,
   "metadata": {},
   "outputs": [],
   "source": [
    "# # creating waldo images\n",
    "\n",
    "# create_sample(IMG_SIZE,4017)"
   ]
  },
  {
   "cell_type": "code",
   "execution_count": 62,
   "metadata": {},
   "outputs": [
    {
     "name": "stdout",
     "output_type": "stream",
     "text": [
      "Found 9354 files belonging to 2 classes.\n",
      "Using 7484 files for training.\n",
      "Using 1870 files for validation.\n",
      "['notwaldo', 'waldo']\n"
     ]
    }
   ],
   "source": [
    "train_ds, test_ds = tf.keras.utils.image_dataset_from_directory(\n",
    "    '../data/selfmade',\n",
    "    validation_split=0.2,\n",
    "    subset=\"both\",\n",
    "    seed=123,\n",
    "    image_size=(IMG_SIZE, IMG_SIZE),\n",
    "    batch_size=32)\n",
    "\n",
    "print(test_ds.class_names)"
   ]
  },
  {
   "cell_type": "code",
   "execution_count": 63,
   "metadata": {},
   "outputs": [
    {
     "name": "stdout",
     "output_type": "stream",
     "text": [
      "Found 9354 files belonging to 2 classes.\n",
      "['notwaldo', 'waldo']\n"
     ]
    }
   ],
   "source": [
    "yesset = tf.keras.utils.image_dataset_from_directory(\n",
    "    '../data/selfmade/',\n",
    "    seed=123,\n",
    "    image_size=(IMG_SIZE, IMG_SIZE),\n",
    "    batch_size=32)\n",
    "\n",
    "print(yesset.class_names)"
   ]
  },
  {
   "cell_type": "code",
   "execution_count": 64,
   "metadata": {},
   "outputs": [
    {
     "name": "stdout",
     "output_type": "stream",
     "text": [
      "Found 5337 files belonging to 1 classes.\n",
      "['notwaldo']\n"
     ]
    }
   ],
   "source": [
    "notset = tf.keras.utils.image_dataset_from_directory(\n",
    "    '../data/src1/notwaldo',\n",
    "    seed=123,\n",
    "    image_size=(IMG_SIZE, IMG_SIZE),\n",
    "    batch_size=32)\n",
    "\n",
    "print(notset.class_names)"
   ]
  },
  {
   "cell_type": "code",
   "execution_count": 65,
   "metadata": {},
   "outputs": [],
   "source": [
    "from tensorflow.keras.layers import Conv2D, MaxPooling2D, Flatten, Dense, Dropout, Lambda, Resizing\n",
    "from tensorflow.keras.models import Sequential\n",
    "\n",
    "def get_conv(input_shape=(IMG_SIZE, IMG_SIZE, 3), filename=None):\n",
    "    model = Sequential()\n",
    "    model.add(Lambda(lambda x: x / 127.5 - 1., input_shape=input_shape, output_shape=input_shape))\n",
    "    model.add(Conv2D(32, (3, 3), activation='relu', name='conv1', input_shape=input_shape, padding=\"same\"))\n",
    "    model.add(Conv2D(64, (3, 3), activation='relu', name='conv2', padding=\"same\"))\n",
    "    model.add(MaxPooling2D(pool_size=(3, 3)))\n",
    "    model.add(Dropout(0.25))\n",
    "    model.add(Conv2D(128, (8, 8), activation=\"relu\", name=\"dense1\"))\n",
    "    model.add(Dropout(0.5))\n",
    "    model.add(Conv2D(2, (14, 14), name=\"dense2\", activation=\"sigmoid\"))\n",
    "    \n",
    "    \n",
    "    model.add(Flatten())\n",
    "    model.compile(loss='mse', optimizer='adadelta', metrics=['accuracy'])\n",
    "    return model"
   ]
  },
  {
   "cell_type": "code",
   "execution_count": 66,
   "metadata": {},
   "outputs": [],
   "source": [
    "from tensorflow.keras.applications import ResNet50\n",
    "\n",
    "model = get_conv()\n",
    "\n",
    "model2 = Sequential()\n",
    "model2.add(Resizing(224,224))\n",
    "model2.add(ResNet50(include_top=False, weights='imagenet', input_shape=(224,224,3)))\n",
    "model2.add(Flatten())\n",
    "model2.add(Dense(1024, activation='relu'))\n",
    "model2.add(Dense(2, activation='softmax'))\n"
   ]
  },
  {
   "cell_type": "code",
   "execution_count": 67,
   "metadata": {},
   "outputs": [
    {
     "name": "stdout",
     "output_type": "stream",
     "text": [
      "Class 0: 1104 elements\n",
      "Class 1: 766 elements\n"
     ]
    },
    {
     "name": "stderr",
     "output_type": "stream",
     "text": [
      "2024-06-09 15:40:50.238494: I tensorflow/core/common_runtime/executor.cc:1197] [/device:CPU:0] (DEBUG INFO) Executor start aborting (this does not indicate an error and you can ignore this message): INVALID_ARGUMENT: You must feed a value for placeholder tensor 'Placeholder/_4' with dtype int32 and shape [1870]\n",
      "\t [[{{node Placeholder/_4}}]]\n",
      "2024-06-09 15:40:50.238653: I tensorflow/core/common_runtime/executor.cc:1197] [/device:CPU:0] (DEBUG INFO) Executor start aborting (this does not indicate an error and you can ignore this message): INVALID_ARGUMENT: You must feed a value for placeholder tensor 'Placeholder/_4' with dtype int32 and shape [1870]\n",
      "\t [[{{node Placeholder/_4}}]]\n"
     ]
    }
   ],
   "source": [
    "from collections import Counter\n",
    "\n",
    "label_counter = Counter()\n",
    "\n",
    "# Iterate through the dataset\n",
    "for images, labels in test_ds:\n",
    "    # Convert the labels to numpy array if they are in tensor format\n",
    "    labels_np = labels.numpy()\n",
    "    \n",
    "    # Update the counter with the labels in the current batch\n",
    "    label_counter.update(labels_np)\n",
    "\n",
    "# Print the number of elements for each class\n",
    "for label, count in label_counter.items():\n",
    "    print(f\"Class {label}: {count} elements\")"
   ]
  },
  {
   "cell_type": "code",
   "execution_count": 68,
   "metadata": {},
   "outputs": [
    {
     "name": "stdout",
     "output_type": "stream",
     "text": [
      "Epoch 1/10\n"
     ]
    },
    {
     "name": "stderr",
     "output_type": "stream",
     "text": [
      "2024-06-09 15:40:50.337281: I tensorflow/core/common_runtime/executor.cc:1197] [/device:CPU:0] (DEBUG INFO) Executor start aborting (this does not indicate an error and you can ignore this message): INVALID_ARGUMENT: You must feed a value for placeholder tensor 'Placeholder/_4' with dtype int32 and shape [7484]\n",
      "\t [[{{node Placeholder/_4}}]]\n",
      "2024-06-09 15:40:50.337497: I tensorflow/core/common_runtime/executor.cc:1197] [/device:CPU:0] (DEBUG INFO) Executor start aborting (this does not indicate an error and you can ignore this message): INVALID_ARGUMENT: You must feed a value for placeholder tensor 'Placeholder/_0' with dtype string and shape [7484]\n",
      "\t [[{{node Placeholder/_0}}]]\n"
     ]
    },
    {
     "name": "stdout",
     "output_type": "stream",
     "text": [
      "234/234 [==============================] - 29s 124ms/step - loss: 0.2521 - accuracy: 0.5502 - val_loss: 0.2479 - val_accuracy: 0.5706\n",
      "Epoch 2/10\n",
      "234/234 [==============================] - 32s 137ms/step - loss: 0.2486 - accuracy: 0.5363 - val_loss: 0.2456 - val_accuracy: 0.5583\n",
      "Epoch 3/10\n",
      "234/234 [==============================] - 34s 143ms/step - loss: 0.2481 - accuracy: 0.5297 - val_loss: 0.2443 - val_accuracy: 0.5310\n",
      "Epoch 4/10\n",
      "234/234 [==============================] - 37s 157ms/step - loss: 0.2468 - accuracy: 0.5183 - val_loss: 0.2432 - val_accuracy: 0.5241\n",
      "Epoch 5/10\n",
      "234/234 [==============================] - 33s 142ms/step - loss: 0.2465 - accuracy: 0.5322 - val_loss: 0.2422 - val_accuracy: 0.5262\n",
      "Epoch 6/10\n",
      "234/234 [==============================] - 33s 142ms/step - loss: 0.2454 - accuracy: 0.5224 - val_loss: 0.2413 - val_accuracy: 0.5299\n",
      "Epoch 7/10\n",
      "234/234 [==============================] - 31s 134ms/step - loss: 0.2453 - accuracy: 0.5226 - val_loss: 0.2403 - val_accuracy: 0.5289\n",
      "Epoch 8/10\n",
      "234/234 [==============================] - 36s 153ms/step - loss: 0.2442 - accuracy: 0.5227 - val_loss: 0.2393 - val_accuracy: 0.5214\n",
      "Epoch 9/10\n",
      "234/234 [==============================] - 36s 155ms/step - loss: 0.2432 - accuracy: 0.5353 - val_loss: 0.2383 - val_accuracy: 0.5262\n",
      "Epoch 10/10\n",
      "234/234 [==============================] - 34s 146ms/step - loss: 0.2416 - accuracy: 0.5257 - val_loss: 0.2372 - val_accuracy: 0.5241\n"
     ]
    }
   ],
   "source": [
    "# model.compile(optimizer='adam',\n",
    "#               loss=tf.keras.losses.SparseCategoricalCrossentropy(from_logits=True),\n",
    "#               metrics=['accuracy'])\n",
    "\n",
    "# both = yesset.concatenate(train_ds)\n",
    "model2.compile(optimizer='adam',\n",
    "                loss=tf.keras.losses.SparseCategoricalCrossentropy(from_logits=True),\n",
    "                metrics=['accuracy'])\n",
    "\n",
    "history = model.fit(train_ds, validation_data=test_ds, epochs=10)\n",
    "# history2 = model2.fit(train_ds, validation_data=test_ds, epochs=10)"
   ]
  },
  {
   "cell_type": "code",
   "execution_count": 69,
   "metadata": {},
   "outputs": [
    {
     "name": "stdout",
     "output_type": "stream",
     "text": [
      "1/8 [==>...........................] - ETA: 0s"
     ]
    },
    {
     "name": "stderr",
     "output_type": "stream",
     "text": [
      "2024-06-09 15:46:26.360600: I tensorflow/core/common_runtime/executor.cc:1197] [/device:CPU:0] (DEBUG INFO) Executor start aborting (this does not indicate an error and you can ignore this message): INVALID_ARGUMENT: You must feed a value for placeholder tensor 'Placeholder/_4' with dtype int32 and shape [7484]\n",
      "\t [[{{node Placeholder/_4}}]]\n",
      "2024-06-09 15:46:26.360838: I tensorflow/core/common_runtime/executor.cc:1197] [/device:CPU:0] (DEBUG INFO) Executor start aborting (this does not indicate an error and you can ignore this message): INVALID_ARGUMENT: You must feed a value for placeholder tensor 'Placeholder/_4' with dtype int32 and shape [7484]\n",
      "\t [[{{node Placeholder/_4}}]]\n",
      "2024-06-09 15:46:26.425446: I tensorflow/core/common_runtime/executor.cc:1197] [/device:CPU:0] (DEBUG INFO) Executor start aborting (this does not indicate an error and you can ignore this message): INVALID_ARGUMENT: You must feed a value for placeholder tensor 'Placeholder/_0' with dtype string and shape [1870]\n",
      "\t [[{{node Placeholder/_0}}]]\n",
      "2024-06-09 15:46:26.425636: I tensorflow/core/common_runtime/executor.cc:1197] [/device:CPU:0] (DEBUG INFO) Executor start aborting (this does not indicate an error and you can ignore this message): INVALID_ARGUMENT: You must feed a value for placeholder tensor 'Placeholder/_4' with dtype int32 and shape [1870]\n",
      "\t [[{{node Placeholder/_4}}]]\n"
     ]
    },
    {
     "name": "stdout",
     "output_type": "stream",
     "text": [
      "8/8 [==============================] - 0s 32ms/step\n",
      "Manual checking accuracy on training data: 55.13%\n"
     ]
    }
   ],
   "source": [
    "# Unbatch and batch the dataset to get all data at once\n",
    "train_images, train_labels = next(iter(train_ds.unbatch().batch(len(train_ds))))\n",
    "test_images, test_labels = next(iter(test_ds.unbatch().batch(len(test_ds))))\n",
    "\n",
    "# Predict on the training data\n",
    "train_predictions = model.predict(train_images)\n",
    "train_predicted_labels = tf.argmax(train_predictions, axis=1)\n",
    "\n",
    "# Ensure the labels are of the same type\n",
    "train_predicted_labels = tf.cast(train_predicted_labels, tf.int32)\n",
    "\n",
    "# Calculate the number of correct predictions\n",
    "correct_predictions = tf.reduce_sum(tf.cast(train_predicted_labels == train_labels, tf.int32))\n",
    "\n",
    "# Calculate accuracy\n",
    "accuracy = correct_predictions / len(train_labels)\n",
    "\n",
    "print(f\"Manual checking accuracy on training data: {accuracy * 100:.2f}%\")\n"
   ]
  },
  {
   "cell_type": "code",
   "execution_count": 70,
   "metadata": {},
   "outputs": [
    {
     "data": {
      "text/plain": [
       "<matplotlib.legend.Legend at 0x30002bb80>"
      ]
     },
     "execution_count": 70,
     "metadata": {},
     "output_type": "execute_result"
    },
    {
     "data": {
      "image/png": "[encoded data removed]",
      "text/plain": [
       "<Figure size 640x480 with 1 Axes>"
      ]
     },
     "metadata": {},
     "output_type": "display_data"
    }
   ],
   "source": [
    "plt.plot(history.history['accuracy'], label='accuracy')\n",
    "plt.plot(history.history['val_accuracy'], label = 'val_accuracy')\n",
    "plt.xlabel('Epoch')\n",
    "plt.ylabel('Accuracy')\n",
    "plt.ylim([0.3, 1])\n",
    "plt.legend(loc='lower right')\n"
   ]
  },
  {
   "cell_type": "code",
   "execution_count": 71,
   "metadata": {},
   "outputs": [
    {
     "name": "stdout",
     "output_type": "stream",
     "text": [
      "234/234 [==============================] - 8s 33ms/step\n",
      "0.48810796365579906\n"
     ]
    }
   ],
   "source": [
    "ds = train_ds\n",
    "true_labels = np.concatenate([y for x, y in ds], axis=0)\n",
    "predictions = model.predict(ds)\n",
    "predictions = np.argmax(predictions, axis=1)\n",
    "counter=0\n",
    "for true, pred in zip(true_labels, predictions):\n",
    "    if true==pred:\n",
    "        counter+=1\n",
    "    # print(f\"True: {true}, Predicted: {pred}\")\n",
    "print(counter/len(true_labels))"
   ]
  },
  {
   "cell_type": "code",
   "execution_count": 72,
   "metadata": {},
   "outputs": [
    {
     "data": {
      "text/plain": [
       "[('6_0_0.jpg', 'notwaldo'),\n",
       " ('6_0_1.jpg', 'notwaldo'),\n",
       " ('6_0_10.jpg', 'notwaldo'),\n",
       " ('6_0_11.jpg', 'notwaldo'),\n",
       " ('6_0_12.jpg', 'notwaldo'),\n",
       " ('6_0_13.jpg', 'notwaldo'),\n",
       " ('6_0_14.jpg', 'notwaldo'),\n",
       " ('6_0_15.jpg', 'notwaldo'),\n",
       " ('6_0_2.jpg', 'notwaldo'),\n",
       " ('6_0_3.jpg', 'notwaldo'),\n",
       " ('6_0_4.jpg', 'notwaldo'),\n",
       " ('6_0_5.jpg', 'notwaldo'),\n",
       " ('6_0_6.jpg', 'notwaldo'),\n",
       " ('6_0_7.jpg', 'notwaldo'),\n",
       " ('6_0_8.jpg', 'notwaldo'),\n",
       " ('6_0_9.jpg', 'notwaldo'),\n",
       " ('6_10_0.jpg', 'notwaldo'),\n",
       " ('6_10_1.jpg', 'notwaldo'),\n",
       " ('6_10_10.jpg', 'notwaldo'),\n",
       " ('6_10_11.jpg', 'notwaldo'),\n",
       " ('6_10_12.jpg', 'notwaldo'),\n",
       " ('6_10_13.jpg', 'notwaldo'),\n",
       " ('6_10_14.jpg', 'notwaldo'),\n",
       " ('6_10_15.jpg', 'notwaldo'),\n",
       " ('6_10_2.jpg', 'notwaldo'),\n",
       " ('6_10_3.jpg', 'notwaldo'),\n",
       " ('6_10_4.jpg', 'notwaldo'),\n",
       " ('6_10_5.jpg', 'notwaldo'),\n",
       " ('6_10_6.jpg', 'notwaldo'),\n",
       " ('6_10_7.jpg', 'notwaldo'),\n",
       " ('6_10_8.jpg', 'notwaldo'),\n",
       " ('6_10_9.jpg', 'notwaldo'),\n",
       " ('6_11_0.jpg', 'notwaldo'),\n",
       " ('6_11_1.jpg', 'notwaldo'),\n",
       " ('6_11_10.jpg', 'notwaldo'),\n",
       " ('6_11_11.jpg', 'notwaldo'),\n",
       " ('6_11_12.jpg', 'notwaldo'),\n",
       " ('6_11_13.jpg', 'notwaldo'),\n",
       " ('6_11_14.jpg', 'notwaldo'),\n",
       " ('6_11_15.jpg', 'notwaldo'),\n",
       " ('6_11_2.jpg', 'notwaldo'),\n",
       " ('6_11_3.jpg', 'notwaldo'),\n",
       " ('6_11_4.jpg', 'notwaldo'),\n",
       " ('6_11_5.jpg', 'notwaldo'),\n",
       " ('6_11_6.jpg', 'notwaldo'),\n",
       " ('6_11_7.jpg', 'notwaldo'),\n",
       " ('6_11_8.jpg', 'notwaldo'),\n",
       " ('6_11_9.jpg', 'notwaldo'),\n",
       " ('6_12_0.jpg', 'notwaldo'),\n",
       " ('6_12_1.jpg', 'notwaldo'),\n",
       " ('6_12_10.jpg', 'notwaldo'),\n",
       " ('6_12_11.jpg', 'notwaldo'),\n",
       " ('6_12_12.jpg', 'notwaldo'),\n",
       " ('6_12_13.jpg', 'notwaldo'),\n",
       " ('6_12_14.jpg', 'notwaldo'),\n",
       " ('6_12_15.jpg', 'notwaldo'),\n",
       " ('6_12_2.jpg', 'notwaldo'),\n",
       " ('6_12_3.jpg', 'notwaldo'),\n",
       " ('6_12_4.jpg', 'notwaldo'),\n",
       " ('6_12_5.jpg', 'notwaldo'),\n",
       " ('6_12_6.jpg', 'notwaldo'),\n",
       " ('6_12_7.jpg', 'notwaldo'),\n",
       " ('6_12_8.jpg', 'notwaldo'),\n",
       " ('6_12_9.jpg', 'notwaldo'),\n",
       " ('6_13_0.jpg', 'notwaldo'),\n",
       " ('6_13_1.jpg', 'notwaldo'),\n",
       " ('6_13_10.jpg', 'notwaldo'),\n",
       " ('6_13_11.jpg', 'notwaldo'),\n",
       " ('6_13_12.jpg', 'notwaldo'),\n",
       " ('6_13_13.jpg', 'notwaldo'),\n",
       " ('6_13_14.jpg', 'notwaldo'),\n",
       " ('6_13_15.jpg', 'notwaldo'),\n",
       " ('6_13_2.jpg', 'notwaldo'),\n",
       " ('6_13_3.jpg', 'notwaldo'),\n",
       " ('6_13_4.jpg', 'notwaldo'),\n",
       " ('6_13_5.jpg', 'notwaldo'),\n",
       " ('6_13_6.jpg', 'notwaldo'),\n",
       " ('6_13_7.jpg', 'notwaldo'),\n",
       " ('6_13_8.jpg', 'notwaldo'),\n",
       " ('6_13_9.jpg', 'notwaldo'),\n",
       " ('6_14_0.jpg', 'notwaldo'),\n",
       " ('6_14_1.jpg', 'notwaldo'),\n",
       " ('6_14_10.jpg', 'notwaldo'),\n",
       " ('6_14_11.jpg', 'notwaldo'),\n",
       " ('6_14_12.jpg', 'notwaldo'),\n",
       " ('6_14_13.jpg', 'notwaldo'),\n",
       " ('6_14_14.jpg', 'notwaldo'),\n",
       " ('6_14_15.jpg', 'notwaldo'),\n",
       " ('6_14_2.jpg', 'notwaldo'),\n",
       " ('6_14_3.jpg', 'notwaldo'),\n",
       " ('6_14_4.jpg', 'notwaldo'),\n",
       " ('6_14_5.jpg', 'notwaldo'),\n",
       " ('6_14_6.jpg', 'notwaldo'),\n",
       " ('6_14_7.jpg', 'notwaldo'),\n",
       " ('6_14_8.jpg', 'notwaldo'),\n",
       " ('6_14_9.jpg', 'notwaldo'),\n",
       " ('6_15_0.jpg', 'notwaldo'),\n",
       " ('6_15_1.jpg', 'waldo'),\n",
       " ('6_15_10.jpg', 'notwaldo'),\n",
       " ('6_15_11.jpg', 'notwaldo'),\n",
       " ('6_15_12.jpg', 'notwaldo'),\n",
       " ('6_15_13.jpg', 'notwaldo'),\n",
       " ('6_15_14.jpg', 'notwaldo'),\n",
       " ('6_15_15.jpg', 'notwaldo'),\n",
       " ('6_15_2.jpg', 'notwaldo'),\n",
       " ('6_15_3.jpg', 'notwaldo'),\n",
       " ('6_15_4.jpg', 'notwaldo'),\n",
       " ('6_15_5.jpg', 'notwaldo'),\n",
       " ('6_15_6.jpg', 'notwaldo'),\n",
       " ('6_15_7.jpg', 'notwaldo'),\n",
       " ('6_15_8.jpg', 'notwaldo'),\n",
       " ('6_15_9.jpg', 'notwaldo'),\n",
       " ('6_1_0.jpg', 'notwaldo'),\n",
       " ('6_1_1.jpg', 'notwaldo'),\n",
       " ('6_1_10.jpg', 'notwaldo'),\n",
       " ('6_1_11.jpg', 'notwaldo'),\n",
       " ('6_1_12.jpg', 'notwaldo'),\n",
       " ('6_1_13.jpg', 'notwaldo'),\n",
       " ('6_1_14.jpg', 'notwaldo'),\n",
       " ('6_1_15.jpg', 'notwaldo'),\n",
       " ('6_1_2.jpg', 'notwaldo'),\n",
       " ('6_1_3.jpg', 'notwaldo'),\n",
       " ('6_1_4.jpg', 'notwaldo'),\n",
       " ('6_1_5.jpg', 'notwaldo'),\n",
       " ('6_1_6.jpg', 'notwaldo'),\n",
       " ('6_1_7.jpg', 'notwaldo'),\n",
       " ('6_1_8.jpg', 'notwaldo'),\n",
       " ('6_1_9.jpg', 'notwaldo'),\n",
       " ('6_2_0.jpg', 'notwaldo'),\n",
       " ('6_2_1.jpg', 'notwaldo'),\n",
       " ('6_2_10.jpg', 'notwaldo'),\n",
       " ('6_2_11.jpg', 'notwaldo'),\n",
       " ('6_2_12.jpg', 'notwaldo'),\n",
       " ('6_2_13.jpg', 'notwaldo'),\n",
       " ('6_2_14.jpg', 'notwaldo'),\n",
       " ('6_2_15.jpg', 'notwaldo'),\n",
       " ('6_2_2.jpg', 'notwaldo'),\n",
       " ('6_2_3.jpg', 'notwaldo'),\n",
       " ('6_2_4.jpg', 'notwaldo'),\n",
       " ('6_2_5.jpg', 'notwaldo'),\n",
       " ('6_2_6.jpg', 'notwaldo'),\n",
       " ('6_2_7.jpg', 'notwaldo'),\n",
       " ('6_2_8.jpg', 'notwaldo'),\n",
       " ('6_2_9.jpg', 'notwaldo'),\n",
       " ('6_3_0.jpg', 'notwaldo'),\n",
       " ('6_3_1.jpg', 'notwaldo'),\n",
       " ('6_3_10.jpg', 'notwaldo'),\n",
       " ('6_3_11.jpg', 'notwaldo'),\n",
       " ('6_3_12.jpg', 'notwaldo'),\n",
       " ('6_3_13.jpg', 'notwaldo'),\n",
       " ('6_3_14.jpg', 'notwaldo'),\n",
       " ('6_3_15.jpg', 'notwaldo'),\n",
       " ('6_3_2.jpg', 'notwaldo'),\n",
       " ('6_3_3.jpg', 'notwaldo'),\n",
       " ('6_3_4.jpg', 'notwaldo'),\n",
       " ('6_3_5.jpg', 'notwaldo'),\n",
       " ('6_3_6.jpg', 'notwaldo'),\n",
       " ('6_3_7.jpg', 'notwaldo'),\n",
       " ('6_3_8.jpg', 'notwaldo'),\n",
       " ('6_3_9.jpg', 'notwaldo'),\n",
       " ('6_4_0.jpg', 'notwaldo'),\n",
       " ('6_4_1.jpg', 'notwaldo'),\n",
       " ('6_4_10.jpg', 'notwaldo'),\n",
       " ('6_4_11.jpg', 'notwaldo'),\n",
       " ('6_4_12.jpg', 'notwaldo'),\n",
       " ('6_4_13.jpg', 'notwaldo'),\n",
       " ('6_4_14.jpg', 'notwaldo'),\n",
       " ('6_4_15.jpg', 'notwaldo'),\n",
       " ('6_4_2.jpg', 'notwaldo'),\n",
       " ('6_4_3.jpg', 'notwaldo'),\n",
       " ('6_4_4.jpg', 'notwaldo'),\n",
       " ('6_4_5.jpg', 'notwaldo'),\n",
       " ('6_4_6.jpg', 'notwaldo'),\n",
       " ('6_4_7.jpg', 'notwaldo'),\n",
       " ('6_4_8.jpg', 'notwaldo'),\n",
       " ('6_4_9.jpg', 'notwaldo'),\n",
       " ('6_5_0.jpg', 'notwaldo'),\n",
       " ('6_5_1.jpg', 'notwaldo'),\n",
       " ('6_5_10.jpg', 'notwaldo'),\n",
       " ('6_5_11.jpg', 'notwaldo'),\n",
       " ('6_5_12.jpg', 'notwaldo'),\n",
       " ('6_5_13.jpg', 'notwaldo'),\n",
       " ('6_5_14.jpg', 'notwaldo'),\n",
       " ('6_5_15.jpg', 'notwaldo'),\n",
       " ('6_5_2.jpg', 'notwaldo'),\n",
       " ('6_5_3.jpg', 'notwaldo'),\n",
       " ('6_5_4.jpg', 'notwaldo'),\n",
       " ('6_5_5.jpg', 'notwaldo'),\n",
       " ('6_5_6.jpg', 'notwaldo'),\n",
       " ('6_5_7.jpg', 'notwaldo'),\n",
       " ('6_5_8.jpg', 'notwaldo'),\n",
       " ('6_5_9.jpg', 'notwaldo'),\n",
       " ('6_6_0.jpg', 'notwaldo'),\n",
       " ('6_6_1.jpg', 'notwaldo'),\n",
       " ('6_6_10.jpg', 'notwaldo'),\n",
       " ('6_6_11.jpg', 'notwaldo'),\n",
       " ('6_6_12.jpg', 'notwaldo'),\n",
       " ('6_6_13.jpg', 'notwaldo'),\n",
       " ('6_6_14.jpg', 'notwaldo'),\n",
       " ('6_6_15.jpg', 'notwaldo'),\n",
       " ('6_6_2.jpg', 'notwaldo'),\n",
       " ('6_6_3.jpg', 'notwaldo'),\n",
       " ('6_6_4.jpg', 'notwaldo'),\n",
       " ('6_6_5.jpg', 'notwaldo'),\n",
       " ('6_6_6.jpg', 'notwaldo'),\n",
       " ('6_6_7.jpg', 'notwaldo'),\n",
       " ('6_6_8.jpg', 'notwaldo'),\n",
       " ('6_6_9.jpg', 'notwaldo'),\n",
       " ('6_7_0.jpg', 'notwaldo'),\n",
       " ('6_7_1.jpg', 'notwaldo'),\n",
       " ('6_7_10.jpg', 'notwaldo'),\n",
       " ('6_7_11.jpg', 'notwaldo'),\n",
       " ('6_7_12.jpg', 'notwaldo'),\n",
       " ('6_7_13.jpg', 'notwaldo'),\n",
       " ('6_7_14.jpg', 'notwaldo'),\n",
       " ('6_7_15.jpg', 'notwaldo'),\n",
       " ('6_7_2.jpg', 'notwaldo'),\n",
       " ('6_7_3.jpg', 'notwaldo'),\n",
       " ('6_7_4.jpg', 'notwaldo'),\n",
       " ('6_7_5.jpg', 'notwaldo'),\n",
       " ('6_7_6.jpg', 'notwaldo'),\n",
       " ('6_7_7.jpg', 'notwaldo'),\n",
       " ('6_7_8.jpg', 'notwaldo'),\n",
       " ('6_7_9.jpg', 'notwaldo'),\n",
       " ('6_8_0.jpg', 'notwaldo'),\n",
       " ('6_8_1.jpg', 'notwaldo'),\n",
       " ('6_8_10.jpg', 'notwaldo'),\n",
       " ('6_8_11.jpg', 'notwaldo'),\n",
       " ('6_8_12.jpg', 'notwaldo'),\n",
       " ('6_8_13.jpg', 'notwaldo'),\n",
       " ('6_8_14.jpg', 'notwaldo'),\n",
       " ('6_8_15.jpg', 'notwaldo'),\n",
       " ('6_8_2.jpg', 'notwaldo'),\n",
       " ('6_8_3.jpg', 'notwaldo'),\n",
       " ('6_8_4.jpg', 'notwaldo'),\n",
       " ('6_8_5.jpg', 'notwaldo'),\n",
       " ('6_8_6.jpg', 'notwaldo'),\n",
       " ('6_8_7.jpg', 'notwaldo'),\n",
       " ('6_8_8.jpg', 'notwaldo'),\n",
       " ('6_8_9.jpg', 'notwaldo'),\n",
       " ('6_9_0.jpg', 'notwaldo'),\n",
       " ('6_9_1.jpg', 'notwaldo'),\n",
       " ('6_9_10.jpg', 'notwaldo'),\n",
       " ('6_9_11.jpg', 'notwaldo'),\n",
       " ('6_9_12.jpg', 'notwaldo'),\n",
       " ('6_9_13.jpg', 'notwaldo'),\n",
       " ('6_9_14.jpg', 'notwaldo'),\n",
       " ('6_9_15.jpg', 'notwaldo'),\n",
       " ('6_9_2.jpg', 'notwaldo'),\n",
       " ('6_9_3.jpg', 'notwaldo'),\n",
       " ('6_9_4.jpg', 'notwaldo'),\n",
       " ('6_9_5.jpg', 'notwaldo'),\n",
       " ('6_9_6.jpg', 'notwaldo'),\n",
       " ('6_9_7.jpg', 'notwaldo'),\n",
       " ('6_9_8.jpg', 'notwaldo'),\n",
       " ('6_9_9.jpg', 'notwaldo')]"
      ]
     },
     "execution_count": 72,
     "metadata": {},
     "output_type": "execute_result"
    }
   ],
   "source": [
    "import os\n",
    "directory_path = f'../data/src1/{IMG_SIZE}'\n",
    "pref = \"6_\"\n",
    "filenames = [(f,'waldo') for f in os.listdir(directory_path+'/waldo') if f.startswith(pref)]+[(f, 'notwaldo') for f in os.listdir(directory_path+'/notwaldo') if f.startswith(pref)]\n",
    "filenames.sort()\n",
    "filenames"
   ]
  },
  {
   "cell_type": "code",
   "execution_count": 73,
   "metadata": {},
   "outputs": [
    {
     "name": "stderr",
     "output_type": "stream",
     "text": [
      "100%|██████████| 256/256 [00:10<00:00, 25.50it/s]"
     ]
    },
    {
     "name": "stdout",
     "output_type": "stream",
     "text": [
      "132 124\n"
     ]
    },
    {
     "name": "stderr",
     "output_type": "stream",
     "text": [
      "\n"
     ]
    }
   ],
   "source": [
    "from tensorflow.keras.preprocessing import image\n",
    "import matplotlib.pyplot as plt\n",
    "from tqdm import tqdm\n",
    "\n",
    "correct=0\n",
    "incorrect=0\n",
    "incorrect_files=[]\n",
    "correct_files=[]\n",
    "# print(filenames)\n",
    "for fname, true in tqdm(filenames):\n",
    "    img = image.load_img(f'../data/src1/{IMG_SIZE}/{true}/{fname}', target_size=(IMG_SIZE, IMG_SIZE, 3))\n",
    "    img_array = image.img_to_array(img)\n",
    "    img_array = np.expand_dims(img_array, axis=0)  # Create a batch\n",
    "    \n",
    "    # Predict the class\n",
    "    prediction = model.predict(img_array, verbose =0)\n",
    "    predicted_class = 'waldo' if prediction[0][0] < prediction[0][1] else 'notwaldo'\n",
    "    # if true == 'notwaldo':\n",
    "        # print(true, prediction)\n",
    "    \n",
    "    # Print the prediction\n",
    "    if predicted_class==true:\n",
    "        correct += 1\n",
    "        correct_files+=[f'../data/src1/{IMG_SIZE}/{true}/{fname}']\n",
    "    else:\n",
    "        incorrect_files+=[f'../data/src1/{IMG_SIZE}/{true}/{fname}']\n",
    "        incorrect += 1\n",
    "    # print(f'Predicted class: {predicted_class} with {prediction[0]}\\t{\"CORRECT\" if predicted_class == True else \"INCORRECT\"}')\n",
    "    \n",
    "    # Optionally, display the image\n",
    "    # plt.imshow(img)\n",
    "    # plt.title(f'Predicted: {predicted_class}')\n",
    "    # plt.show()\n",
    "print(correct, incorrect)\n"
   ]
  },
  {
   "cell_type": "code",
   "execution_count": 74,
   "metadata": {},
   "outputs": [
    {
     "name": "stdout",
     "output_type": "stream",
     "text": [
      "Waldo correct:  0  incorrect:  1\n",
      "Notwaldo correct:  132  incorrect:  123\n"
     ]
    }
   ],
   "source": [
    "counter =0\n",
    "for f in correct_files:\n",
    "    if f.startswith(f'../data/src1/{IMG_SIZE}/waldo'):\n",
    "        counter+=1\n",
    "counter2 =0\n",
    "for f in incorrect_files:\n",
    "    if f.startswith(f'../data/src1/{IMG_SIZE}/waldo'):\n",
    "        counter2+=1 \n",
    "\n",
    "print(\"Waldo correct: \",counter, \" incorrect: \", counter2)\n",
    "\n",
    "counter =0\n",
    "for f in correct_files:\n",
    "    if f.startswith(f'../data/src1/{IMG_SIZE}/notwaldo'):\n",
    "        counter+=1\n",
    "counter2 =0\n",
    "for f in incorrect_files:\n",
    "    if f.startswith(f'../data/src1/{IMG_SIZE}/notwaldo'):\n",
    "        counter2+=1 \n",
    "\n",
    "print(\"Notwaldo correct: \",counter, \" incorrect: \", counter2) "
   ]
  }
 ],
 "metadata": {
  "kernelspec": {
   "display_name": "tf",
   "language": "python",
   "name": "python3"
  },
  "language_info": {
   "codemirror_mode": {
    "name": "ipython",
    "version": 3
   },
   "file_extension": ".py",
   "mimetype": "text/x-python",
   "name": "python",
   "nbconvert_exporter": "python",
   "pygments_lexer": "ipython3",
   "version": "3.10.13"
  }
 },
 "nbformat": 4,
 "nbformat_minor": 2
}
