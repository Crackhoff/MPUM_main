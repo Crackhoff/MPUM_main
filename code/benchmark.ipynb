{
 "cells": [
  {
   "cell_type": "markdown",
   "metadata": {},
   "source": [
    "### In this notebook we use tensorflow CNN model to find waldo."
   ]
  },
  {
   "cell_type": "code",
   "execution_count": 11,
   "metadata": {},
   "outputs": [],
   "source": [
    "import tensorflow as tf \n",
    "import numpy as np\n",
    "import matplotlib.pyplot as plt\n"
   ]
  },
  {
   "cell_type": "code",
   "execution_count": 12,
   "metadata": {},
   "outputs": [
    {
     "name": "stdout",
     "output_type": "stream",
     "text": [
      "Found 1344 files belonging to 2 classes.\n",
      "Using 1076 files for training.\n",
      "Using 268 files for validation.\n"
     ]
    }
   ],
   "source": [
    "train_ds, test_ds = tf.keras.utils.image_dataset_from_directory(\n",
    "    '../data/src1/128-gray',\n",
    "    validation_split=0.2,\n",
    "    subset=\"both\",\n",
    "    seed=123,\n",
    "    image_size=(64, 64),\n",
    "    batch_size=32)"
   ]
  },
  {
   "cell_type": "code",
   "execution_count": 13,
   "metadata": {},
   "outputs": [],
   "source": [
    "model = tf.keras.models.Sequential([\n",
    "    tf.keras.layers.Conv2D(32, (3, 3), activation='relu', input_shape=(64, 64, 3)),\n",
    "    tf.keras.layers.MaxPooling2D((2, 2)),\n",
    "    tf.keras.layers.Conv2D(64, (3, 3), activation='relu'),\n",
    "    tf.keras.layers.MaxPooling2D((2, 2)),\n",
    "    tf.keras.layers.Conv2D(64, (3, 3), activation='relu'),\n",
    "    tf.keras.layers.Flatten(),\n",
    "    tf.keras.layers.Dense(64, activation='relu'),\n",
    "    tf.keras.layers.Dense(2)\n",
    "])\n",
    "\n"
   ]
  },
  {
   "cell_type": "code",
   "execution_count": 14,
   "metadata": {},
   "outputs": [
    {
     "name": "stdout",
     "output_type": "stream",
     "text": [
      "Epoch 1/10\n"
     ]
    },
    {
     "name": "stderr",
     "output_type": "stream",
     "text": [
      "2024-06-08 15:28:03.317810: I tensorflow/core/common_runtime/executor.cc:1197] [/device:CPU:0] (DEBUG INFO) Executor start aborting (this does not indicate an error and you can ignore this message): INVALID_ARGUMENT: You must feed a value for placeholder tensor 'Placeholder/_4' with dtype int32 and shape [1076]\n",
      "\t [[{{node Placeholder/_4}}]]\n",
      "2024-06-08 15:28:03.318022: I tensorflow/core/common_runtime/executor.cc:1197] [/device:CPU:0] (DEBUG INFO) Executor start aborting (this does not indicate an error and you can ignore this message): INVALID_ARGUMENT: You must feed a value for placeholder tensor 'Placeholder/_0' with dtype string and shape [1076]\n",
      "\t [[{{node Placeholder/_0}}]]\n"
     ]
    },
    {
     "name": "stdout",
     "output_type": "stream",
     "text": [
      "34/34 [==============================] - 1s 31ms/step - loss: 15.5185 - accuracy: 0.8950 - val_loss: 3.0328 - val_accuracy: 0.9888\n",
      "Epoch 2/10\n"
     ]
    },
    {
     "name": "stderr",
     "output_type": "stream",
     "text": [
      "2024-06-08 15:28:04.408127: I tensorflow/core/common_runtime/executor.cc:1197] [/device:CPU:0] (DEBUG INFO) Executor start aborting (this does not indicate an error and you can ignore this message): INVALID_ARGUMENT: You must feed a value for placeholder tensor 'Placeholder/_4' with dtype int32 and shape [268]\n",
      "\t [[{{node Placeholder/_4}}]]\n",
      "2024-06-08 15:28:04.408312: I tensorflow/core/common_runtime/executor.cc:1197] [/device:CPU:0] (DEBUG INFO) Executor start aborting (this does not indicate an error and you can ignore this message): INVALID_ARGUMENT: You must feed a value for placeholder tensor 'Placeholder/_4' with dtype int32 and shape [268]\n",
      "\t [[{{node Placeholder/_4}}]]\n"
     ]
    },
    {
     "name": "stdout",
     "output_type": "stream",
     "text": [
      "34/34 [==============================] - 1s 28ms/step - loss: 2.2819 - accuracy: 0.9210 - val_loss: 0.7458 - val_accuracy: 0.9888\n",
      "Epoch 3/10\n",
      "34/34 [==============================] - 1s 26ms/step - loss: 1.3330 - accuracy: 0.9535 - val_loss: 0.0819 - val_accuracy: 0.9888\n",
      "Epoch 4/10\n",
      "34/34 [==============================] - 1s 25ms/step - loss: 0.1525 - accuracy: 0.9786 - val_loss: 0.0683 - val_accuracy: 0.9888\n",
      "Epoch 5/10\n",
      "34/34 [==============================] - 1s 25ms/step - loss: 0.0395 - accuracy: 0.9861 - val_loss: 0.0675 - val_accuracy: 0.9925\n",
      "Epoch 6/10\n",
      "34/34 [==============================] - 1s 25ms/step - loss: 0.0168 - accuracy: 0.9954 - val_loss: 0.0690 - val_accuracy: 0.9925\n",
      "Epoch 7/10\n",
      "34/34 [==============================] - 1s 25ms/step - loss: 0.0040 - accuracy: 1.0000 - val_loss: 0.0838 - val_accuracy: 0.9925\n",
      "Epoch 8/10\n",
      "34/34 [==============================] - 1s 26ms/step - loss: 0.0018 - accuracy: 1.0000 - val_loss: 0.0853 - val_accuracy: 0.9925\n",
      "Epoch 9/10\n",
      "34/34 [==============================] - 1s 26ms/step - loss: 9.2607e-04 - accuracy: 1.0000 - val_loss: 0.0855 - val_accuracy: 0.9925\n",
      "Epoch 10/10\n",
      "34/34 [==============================] - 1s 25ms/step - loss: 5.3214e-04 - accuracy: 1.0000 - val_loss: 0.0904 - val_accuracy: 0.9925\n"
     ]
    }
   ],
   "source": [
    "model.compile(optimizer='adam',\n",
    "              loss=tf.keras.losses.SparseCategoricalCrossentropy(from_logits=True),\n",
    "              metrics=['accuracy'])\n",
    "\n",
    "history = model.fit(train_ds, validation_data=test_ds, epochs=10)"
   ]
  },
  {
   "cell_type": "code",
   "execution_count": 15,
   "metadata": {},
   "outputs": [
    {
     "name": "stdout",
     "output_type": "stream",
     "text": [
      "9/9 - 0s - loss: 0.0904 - accuracy: 0.9925 - 90ms/epoch - 10ms/step\n"
     ]
    },
    {
     "data": {
      "image/png": "[encoded data removed]",
      "text/plain": [
       "<Figure size 640x480 with 1 Axes>"
      ]
     },
     "metadata": {},
     "output_type": "display_data"
    }
   ],
   "source": [
    "plt.plot(history.history['accuracy'], label='accuracy')\n",
    "plt.plot(history.history['val_accuracy'], label = 'val_accuracy')\n",
    "plt.xlabel('Epoch')\n",
    "plt.ylabel('Accuracy')\n",
    "plt.ylim([0.5, 1])\n",
    "plt.legend(loc='lower right')\n",
    "\n",
    "test_loss, test_acc = model.evaluate(test_ds, verbose=2)"
   ]
  }
 ],
 "metadata": {
  "kernelspec": {
   "display_name": "tf",
   "language": "python",
   "name": "python3"
  },
  "language_info": {
   "codemirror_mode": {
    "name": "ipython",
    "version": 3
   },
   "file_extension": ".py",
   "mimetype": "text/x-python",
   "name": "python",
   "nbconvert_exporter": "python",
   "pygments_lexer": "ipython3",
   "version": "3.10.13"
  }
 },
 "nbformat": 4,
 "nbformat_minor": 2
}
