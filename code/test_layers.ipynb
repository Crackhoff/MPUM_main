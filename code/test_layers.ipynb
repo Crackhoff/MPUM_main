{
 "cells": [
  {
   "cell_type": "markdown",
   "id": "87efaf791d870c7e",
   "metadata": {
    "collapsed": false
   },
   "source": []
  },
  {
   "cell_type": "code",
   "execution_count": null,
   "id": "4917427f6a5b1cc6",
   "metadata": {
    "ExecuteTime": {
     "end_time": "2024-06-11T16:01:51.038189Z",
     "start_time": "2024-06-11T16:01:51.008168Z"
    },
    "collapsed": false
   },
   "outputs": [],
   "source": []
  },
  {
   "cell_type": "code",
   "execution_count": null,
   "id": "6fb1e45b7e634801",
   "metadata": {
    "collapsed": false
   },
   "outputs": [],
   "source": []
  },
  {
   "cell_type": "code",
   "execution_count": 1,
   "id": "f3f328cf277073fd",
   "metadata": {
    "ExecuteTime": {
     "end_time": "2024-06-11T16:53:59.794991Z",
     "start_time": "2024-06-11T16:53:59.386030Z"
    },
    "collapsed": false
   },
   "outputs": [
    {
     "name": "stdout",
     "output_type": "stream",
     "text": [
      "(4, 2, 1) preval\n",
      "(4, 2, 1) postval (0, 2, 1)\n"
     ]
    },
    {
     "name": "stderr",
     "output_type": "stream",
     "text": [
      "100%|██████████| 4/4 [00:00<00:00, 4132.32it/s]"
     ]
    },
    {
     "name": "stdout",
     "output_type": "stream",
     "text": [
      "(4, 2, 1) test    \n",
      "(4, 2, 1) test    \n",
      "(4, 2, 1) test    \n",
      "(4, 2, 1) test    \n",
      "Epoch 0 Error 1.2743587708690647\n",
      "(0, 2, 1) validate\n"
     ]
    },
    {
     "name": "stderr",
     "output_type": "stream",
     "text": [
      "\n"
     ]
    },
    {
     "ename": "IndexError",
     "evalue": "index 0 is out of bounds for axis 0 with size 0",
     "output_type": "error",
     "traceback": [
      "\u001b[0;31m---------------------------------------------------------------------------\u001b[0m",
      "\u001b[0;31mIndexError\u001b[0m                                Traceback (most recent call last)",
      "Cell \u001b[0;32mIn[1], line 19\u001b[0m\n\u001b[1;32m     17\u001b[0m model \u001b[38;5;241m=\u001b[39m NeuralNetwork()\n\u001b[1;32m     18\u001b[0m model\u001b[38;5;241m.\u001b[39mlayers \u001b[38;5;241m=\u001b[39m layers\n\u001b[0;32m---> 19\u001b[0m \u001b[43mmodel\u001b[49m\u001b[38;5;241;43m.\u001b[39;49m\u001b[43mtrain\u001b[49m\u001b[43m(\u001b[49m\u001b[43mX\u001b[49m\u001b[43m,\u001b[49m\u001b[43m \u001b[49m\u001b[43mY\u001b[49m\u001b[43m,\u001b[49m\u001b[43m \u001b[49m\u001b[43mepochs\u001b[49m\u001b[38;5;241;43m=\u001b[39;49m\u001b[38;5;241;43m1000\u001b[39;49m\u001b[43m,\u001b[49m\u001b[43m \u001b[49m\u001b[43mlearning_rate\u001b[49m\u001b[38;5;241;43m=\u001b[39;49m\u001b[38;5;241;43m0.1\u001b[39;49m\u001b[43m,\u001b[49m\u001b[43m \u001b[49m\u001b[43mbatch_size\u001b[49m\u001b[38;5;241;43m=\u001b[39;49m\u001b[38;5;241;43m1\u001b[39;49m\u001b[43m)\u001b[49m\n\u001b[1;32m     21\u001b[0m \u001b[38;5;66;03m# decision boundary plot\u001b[39;00m\n\u001b[1;32m     22\u001b[0m points \u001b[38;5;241m=\u001b[39m []\n",
      "File \u001b[0;32m~/Desktop/studia/mpum/MPUM_main/code/cnn.py:66\u001b[0m, in \u001b[0;36mNeuralNetwork.train\u001b[0;34m(self, X, y, validation, learning_rate, epochs, batch_size, optimizer, verbose)\u001b[0m\n\u001b[1;32m     63\u001b[0m     \u001b[38;5;28mprint\u001b[39m(\u001b[38;5;124m\"\u001b[39m\u001b[38;5;124mEpoch\u001b[39m\u001b[38;5;124m\"\u001b[39m, epoch, \u001b[38;5;124m\"\u001b[39m\u001b[38;5;124mError\u001b[39m\u001b[38;5;124m\"\u001b[39m, \u001b[38;5;28mself\u001b[39m\u001b[38;5;241m.\u001b[39merror[\u001b[38;5;241m-\u001b[39m\u001b[38;5;241m1\u001b[39m])\n\u001b[1;32m     65\u001b[0m \u001b[38;5;28;01mif\u001b[39;00m validation:\n\u001b[0;32m---> 66\u001b[0m     acc, _ \u001b[38;5;241m=\u001b[39m \u001b[38;5;28;43mself\u001b[39;49m\u001b[38;5;241;43m.\u001b[39;49m\u001b[43mvalidate\u001b[49m\u001b[43m(\u001b[49m\u001b[38;5;28;43mself\u001b[39;49m\u001b[38;5;241;43m.\u001b[39;49m\u001b[43mX_val\u001b[49m\u001b[43m,\u001b[49m\u001b[43m \u001b[49m\u001b[38;5;28;43mself\u001b[39;49m\u001b[38;5;241;43m.\u001b[39;49m\u001b[43my_val\u001b[49m\u001b[43m)\u001b[49m\n\u001b[1;32m     67\u001b[0m     \u001b[38;5;28mprint\u001b[39m(\u001b[38;5;124m\"\u001b[39m\u001b[38;5;124mValidation accuracy\u001b[39m\u001b[38;5;124m\"\u001b[39m, acc)\n",
      "File \u001b[0;32m~/Desktop/studia/mpum/MPUM_main/code/cnn.py:71\u001b[0m, in \u001b[0;36mNeuralNetwork.validate\u001b[0;34m(self, X, y)\u001b[0m\n\u001b[1;32m     69\u001b[0m \u001b[38;5;28;01mdef\u001b[39;00m \u001b[38;5;21mvalidate\u001b[39m(\u001b[38;5;28mself\u001b[39m, X, y):\n\u001b[1;32m     70\u001b[0m     \u001b[38;5;28mprint\u001b[39m(X\u001b[38;5;241m.\u001b[39mshape, \u001b[38;5;124m\"\u001b[39m\u001b[38;5;124mvalidate\u001b[39m\u001b[38;5;124m\"\u001b[39m)\n\u001b[0;32m---> 71\u001b[0m     output \u001b[38;5;241m=\u001b[39m \u001b[38;5;28;43mself\u001b[39;49m\u001b[38;5;241;43m.\u001b[39;49m\u001b[43m_forward\u001b[49m\u001b[43m(\u001b[49m\u001b[43mX\u001b[49m\u001b[43m)\u001b[49m\u001b[43m[\u001b[49m\u001b[38;5;241;43m0\u001b[39;49m\u001b[43m]\u001b[49m\n\u001b[1;32m     72\u001b[0m     \u001b[38;5;28;01mreturn\u001b[39;00m np\u001b[38;5;241m.\u001b[39mmean(np\u001b[38;5;241m.\u001b[39margmax(output, axis\u001b[38;5;241m=\u001b[39m\u001b[38;5;241m1\u001b[39m) \u001b[38;5;241m==\u001b[39m np\u001b[38;5;241m.\u001b[39margmax(y, axis\u001b[38;5;241m=\u001b[39m\u001b[38;5;241m1\u001b[39m)), output\n",
      "\u001b[0;31mIndexError\u001b[0m: index 0 is out of bounds for axis 0 with size 0"
     ]
    }
   ],
   "source": [
    "import numpy as np\n",
    "import matplotlib.pyplot as plt\n",
    "# from mpl_toolkits.mplot3d import Axes3D\n",
    "\n",
    "from layers import DenseLayer\n",
    "from cnn import NeuralNetwork\n",
    "\n",
    "X = np.reshape([[0, 0], [0, 1], [1, 0], [1, 1]], (4, 2, 1))\n",
    "Y = np.reshape([[0], [1], [1], [0]], (4, 1, 1))\n",
    "\n",
    "layers = [\n",
    "    DenseLayer((2,), 3, activation=\"tanh\"),\n",
    "    DenseLayer((3,), 1, activation=\"tanh\"),\n",
    "]\n",
    "\n",
    "# train\n",
    "model = NeuralNetwork()\n",
    "model.layers = layers\n",
    "model.train(X, Y, validation=False, epochs=1000, learning_rate=0.1, batch_size=1)\n",
    "\n",
    "# decision boundary plot\n",
    "points = []\n",
    "for x in np.linspace(0, 1, 20):\n",
    "    for y in np.linspace(0, 1, 20):\n",
    "        z = model.predict(np.reshape([[x], [y]], (2, 1)))\n",
    "        points.append([x, y, z[0,0]])\n",
    "\n",
    "points = np.array(points)\n",
    "\n",
    "# fig = plt.figure()\n",
    "# ax = fig.add_subplot(111, projection=\"3d\")\n",
    "# ax.scatter(points[:, 0], points[:, 1], points[:, 2], c=points[:, 2], cmap=\"winter\")\n",
    "# plt.show()"
   ]
  },
  {
   "cell_type": "code",
   "execution_count": null,
   "id": "bff4efc6c14634d1",
   "metadata": {
    "ExecuteTime": {
     "end_time": "2024-06-11T16:03:17.959101Z",
     "start_time": "2024-06-11T16:03:16.375274Z"
    },
    "collapsed": false
   },
   "outputs": [],
   "source": [
    "from keras.datasets import mnist\n",
    "from keras import utils"
   ]
  },
  {
   "cell_type": "code",
   "execution_count": null,
   "id": "1ba2d46790c1fc69",
   "metadata": {
    "ExecuteTime": {
     "end_time": "2024-06-11T17:14:14.051893Z",
     "start_time": "2024-06-11T17:14:12.601998Z"
    },
    "collapsed": false
   },
   "outputs": [],
   "source": [
    "%load_ext autoreload\n",
    "%autoreload 2\n",
    "\n",
    "import numpy as np\n",
    "\n",
    "from layers import ConvLayer, FlattenLayer, DenseLayer, MaxPoolLayer, MeanPoolLayer\n",
    "from losses import *\n",
    "from cnn import NeuralNetwork\n",
    "\n",
    "def preprocess_data(x, y, limit):\n",
    "    zero_index = np.where(y == 0)[0][:limit]\n",
    "    one_index = np.where(y == 1)[0][:limit]\n",
    "    all_indices = np.hstack((zero_index, one_index))\n",
    "    all_indices = np.random.permutation(all_indices)\n",
    "    x, y = x[all_indices], y[all_indices]\n",
    "    x = x.reshape(len(x), 1, 28, 28)\n",
    "    x = x.astype(\"float32\") / 255\n",
    "    y = utils.to_categorical(y)\n",
    "    y = y.reshape(len(y), 2, 1)\n",
    "    return x, y\n",
    "\n",
    "# load MNIST from server, limit to 100 images per class since we're not training on GPU\n",
    "(x_train, y_train), (x_test, y_test) = mnist.load_data()\n",
    "x_train, y_train = preprocess_data(x_train, y_train, 100)\n",
    "x_test, y_test = preprocess_data(x_test, y_test, 100)\n",
    "\n",
    "# neural network\n",
    "layers = [\n",
    "    ConvLayer(5, 3, (1, 28, 28), activation=\"sigmoid\"),\n",
    "    MeanPoolLayer((5, 26, 26), pool_size=(2,2)),\n",
    "    ConvLayer(5, 5, (5, 13, 13), activation=\"sigmoid\"),\n",
    "    MaxPoolLayer((5, 9, 9), pool_size=(2,2)),\n",
    "    FlattenLayer((5, 4, 4)),\n",
    "    DenseLayer((80,), 50, activation=\"sigmoid\"),\n",
    "    DenseLayer((50,), 2, activation=\"sigmoid\"),\n",
    "]\n",
    "\n",
    "layer2s = [\n",
    "    ConvLayer(5, 3, (1, 28, 28), activation=\"sigmoid\"),\n",
    "    FlattenLayer((5, 26, 26)),\n",
    "    DenseLayer((5 * 26 * 26,), 100, activation='sigmoid'),\n",
    "    DenseLayer((100,), 2, activation=\"sigmoid\"),\n",
    "]\n",
    "\n",
    "\n",
    "model = NeuralNetwork(loss='binary_crossentropy')\n",
    "model.layers = layers\n",
    "for i in range(10):\n",
    "    print(x_test[i])\n",
    "# train\n",
    "model.train(\n",
    "    x_train,\n",
    "    y_train,\n",
    "    epochs=50,\n",
    "    learning_rate=0.01,\n",
    "    batch_size=32,\n",
    "    optimizer=\"adam\",\n",
    ")\n",
    "\n",
    "# test\n",
    "# for x, y in zip(x_test, y_test):\n",
    "#     output = model.predict(x)\n",
    "#     print(f\"pred: {np.argmax(output)}, true: {np.argmax(y)}\")"
   ]
  }
 ],
 "metadata": {
  "kernelspec": {
   "display_name": "Python 3",
   "language": "python",
   "name": "python3"
  },
  "language_info": {
   "codemirror_mode": {
    "name": "ipython",
    "version": 3
   },
   "file_extension": ".py",
   "mimetype": "text/x-python",
   "name": "python",
   "nbconvert_exporter": "python",
   "pygments_lexer": "ipython3",
   "version": "3.10.13"
  }
 },
 "nbformat": 4,
 "nbformat_minor": 5
}
