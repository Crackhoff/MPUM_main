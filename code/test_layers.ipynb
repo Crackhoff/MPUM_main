{
 "cells": [
  {
   "cell_type": "markdown",
   "id": "87efaf791d870c7e",
   "metadata": {
    "collapsed": false
   },
   "source": []
  },
  {
   "cell_type": "code",
   "execution_count": null,
   "id": "f3f328cf277073fd",
   "metadata": {
    "collapsed": false
   },
   "outputs": [],
   "source": [
    "import numpy as np\n",
    "import matplotlib.pyplot as plt\n",
    "# from mpl_toolkits.mplot3d import Axes3D\n",
    "\n",
    "from layers import DenseLayer\n",
    "from cnn import NeuralNetwork\n",
    "\n",
    "X = np.reshape([[0, 0], [0, 1], [1, 0], [1, 1]], (4, 2, 1))\n",
    "Y = np.reshape([[0], [1], [1], [0]], (4, 1, 1))\n",
    "\n",
    "layers = [\n",
    "    DenseLayer((2,), 3, activation=\"tanh\"),\n",
    "    DenseLayer((3,), 1, activation=\"tanh\"),\n",
    "]\n",
    "\n",
    "# train\n",
    "model = NeuralNetwork()\n",
    "model.layers = layers\n",
    "model.train(X, Y, validation=False, epochs=1000, learning_rate=0.1, batch_size=1)\n",
    "\n",
    "# decision boundary plot\n",
    "points = []\n",
    "for x in np.linspace(0, 1, 20):\n",
    "    for y in np.linspace(0, 1, 20):\n",
    "        z = model.predict(np.reshape([[x], [y]], (2, 1)))\n",
    "        points.append([x, y, z[0,0]])\n",
    "\n",
    "points = np.array(points)\n",
    "\n",
    "# fig = plt.figure()\n",
    "# ax = fig.add_subplot(111, projection=\"3d\")\n",
    "# ax.scatter(points[:, 0], points[:, 1], points[:, 2], c=points[:, 2], cmap=\"winter\")\n",
    "# plt.show()"
   ]
  },
  {
   "cell_type": "code",
   "execution_count": 2,
   "id": "bff4efc6c14634d1",
   "metadata": {
    "ExecuteTime": {
     "end_time": "2024-06-11T16:03:17.959101Z",
     "start_time": "2024-06-11T16:03:16.375274Z"
    },
    "collapsed": false
   },
   "outputs": [],
   "source": [
    "from keras.datasets import mnist\n",
    "from keras import utils"
   ]
  },
  {
   "cell_type": "code",
   "execution_count": null,
   "id": "1ba2d46790c1fc69",
   "metadata": {
    "collapsed": false
   },
   "outputs": [],
   "source": [
    "%load_ext autoreload\n",
    "%autoreload 2\n",
    "\n",
    "import numpy as np\n",
    "\n",
    "from layers import ConvLayer, FlattenLayer, DenseLayer, MaxPoolLayer, MeanPoolLayer\n",
    "from losses import *\n",
    "from cnn import NeuralNetwork\n",
    "\n",
    "def preprocess_data(x, y, limit):\n",
    "    zero_index = np.where(y == 0)[0][:limit]\n",
    "    one_index = np.where(y == 1)[0][:limit]\n",
    "    two_index = np.where(y == 2)[0][:limit]\n",
    "    three_index = np.where(y == 3)[0][:limit]\n",
    "    four_index = np.where(y == 4)[0][:limit]\n",
    "    # print(zero_index.shape, one_index.shape)\n",
    "    all_indices = np.hstack((zero_index, one_index, two_index, three_index, four_index))\n",
    "    all_indices = np.random.permutation(all_indices)\n",
    "    x, y = x[all_indices], y[all_indices]\n",
    "    x = x.reshape(len(x), 1, 28, 28)\n",
    "    x = x.astype(\"float32\") / 255\n",
    "    print(y.shape)\n",
    "    y = utils.to_categorical(y)\n",
    "    print(y.shape)\n",
    "    y = y.reshape(len(y), 5, 1)\n",
    "    return x, y\n",
    "\n",
    "# load MNIST from server, limit to 100 images per class since we're not training on GPU\n",
    "(x_train, y_train), (x_test, y_test) = mnist.load_data()\n",
    "\n",
    "print(y_test)\n",
    "x_train, y_train = preprocess_data(x_train, y_train, 1000)\n",
    "x_test, y_test = preprocess_data(x_test, y_test, 1000)\n",
    "\n",
    "# neural network\n",
    "layers = [\n",
    "    ConvLayer(16, 3, (1, 28, 28), activation=\"sigmoid\"),\n",
    "    MeanPoolLayer((16,26,26), pool_size=(2,2)),\n",
    "    ConvLayer(16, 5, (16, 13, 13), activation=\"sigmoid\"),\n",
    "    MaxPoolLayer((16,9,9), pool_size=(3,3)),\n",
    "    FlattenLayer((16, 3, 3)),\n",
    "    DenseLayer((144,), 750, activation=\"sigmoid\"),\n",
    "    DenseLayer((750,), 5, activation=\"sigmoid\"),\n",
    "]\n",
    "\n",
    "layer2s = [\n",
    "    ConvLayer(5, 3, (1, 28, 28), activation=\"sigmoid\"),\n",
    "    FlattenLayer((5, 26, 26)),\n",
    "    DenseLayer((5 * 26 * 26,), 100, activation='sigmoid'),\n",
    "    DenseLayer((100,), 3, activation=\"sigmoid\"),\n",
    "]\n",
    "\n",
    "\n",
    "model = NeuralNetwork(loss='binary_crossentropy')\n",
    "model.layers = layers\n",
    "# for i in range(10):\n",
    "#     print(x_test[i], y_test[i])\n",
    "# train\n",
    "model.train(\n",
    "    x_train,\n",
    "    y_train,\n",
    "    epochs=50,\n",
    "    learning_rate=0.01,\n",
    "    batch_size=16,\n",
    "    optimizer=\"adam\",\n",
    ")\n",
    "\n",
    "# test\n",
    "# for x, y in zip(x_test, y_test):\n",
    "#     output = model.predict(x)\n",
    "#     print(f\"pred: {np.argmax(output)}, true: {np.argmax(y)}\")"
   ]
  },
  {
   "cell_type": "code",
   "execution_count": 8,
   "id": "a423a7ea",
   "metadata": {},
   "outputs": [
    {
     "data": {
      "text/plain": [
       "(0.6271664651350262,\n",
       " array([[[0.13083727],\n",
       "         [0.0256694 ],\n",
       "         [0.05443572],\n",
       "         [0.21277194],\n",
       "         [0.25116711]],\n",
       " \n",
       "        [[0.24993288],\n",
       "         [0.00166179],\n",
       "         [0.11880071],\n",
       "         [0.50965827],\n",
       "         [0.03017573]],\n",
       " \n",
       "        [[0.00883617],\n",
       "         [0.00536   ],\n",
       "         [0.31663769],\n",
       "         [0.44036233],\n",
       "         [0.03450001]],\n",
       " \n",
       "        ...,\n",
       " \n",
       "        [[0.04045882],\n",
       "         [0.01319302],\n",
       "         [0.02352264],\n",
       "         [0.24366313],\n",
       "         [0.11193275]],\n",
       " \n",
       "        [[0.00850237],\n",
       "         [0.11119629],\n",
       "         [0.09568476],\n",
       "         [0.16043337],\n",
       "         [0.10025858]],\n",
       " \n",
       "        [[0.00310316],\n",
       "         [0.09389137],\n",
       "         [0.02372895],\n",
       "         [0.0602503 ],\n",
       "         [0.50393932]]]))"
      ]
     },
     "execution_count": 8,
     "metadata": {},
     "output_type": "execute_result"
    }
   ],
   "source": [
    "model.validate(x_test, y_test)  "
   ]
  }
 ],
 "metadata": {
  "kernelspec": {
   "display_name": "Python 3",
   "language": "python",
   "name": "python3"
  },
  "language_info": {
   "codemirror_mode": {
    "name": "ipython",
    "version": 3
   },
   "file_extension": ".py",
   "mimetype": "text/x-python",
   "name": "python",
   "nbconvert_exporter": "python",
   "pygments_lexer": "ipython3",
   "version": "3.10.13"
  }
 },
 "nbformat": 4,
 "nbformat_minor": 5
}
